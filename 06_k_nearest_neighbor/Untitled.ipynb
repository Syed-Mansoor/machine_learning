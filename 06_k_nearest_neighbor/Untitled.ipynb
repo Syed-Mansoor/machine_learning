{
 "cells": [
  {
   "cell_type": "code",
   "execution_count": 1,
   "id": "315fb4a5-6c9a-41bf-834e-5e0b6febb03f",
   "metadata": {},
   "outputs": [],
   "source": [
    "import numpy as np\n",
    "import pandas as pd\n",
    "import matplotlib.pyplot as plt\n",
    "%matplotlib inline"
   ]
  },
  {
   "cell_type": "code",
   "execution_count": 2,
   "id": "53b77a66-697f-4d92-9ff6-23415774221a",
   "metadata": {},
   "outputs": [],
   "source": [
    "df = pd.read_csv(\"Social_Network_Ads.xls\")"
   ]
  },
  {
   "cell_type": "code",
   "execution_count": 4,
   "id": "51a29a97-535d-4793-9e03-a7ca1d5c23b2",
   "metadata": {},
   "outputs": [
    {
     "data": {
      "text/html": [
       "<div>\n",
       "<style scoped>\n",
       "    .dataframe tbody tr th:only-of-type {\n",
       "        vertical-align: middle;\n",
       "    }\n",
       "\n",
       "    .dataframe tbody tr th {\n",
       "        vertical-align: top;\n",
       "    }\n",
       "\n",
       "    .dataframe thead th {\n",
       "        text-align: right;\n",
       "    }\n",
       "</style>\n",
       "<table border=\"1\" class=\"dataframe\">\n",
       "  <thead>\n",
       "    <tr style=\"text-align: right;\">\n",
       "      <th></th>\n",
       "      <th>User ID</th>\n",
       "      <th>Gender</th>\n",
       "      <th>Age</th>\n",
       "      <th>EstimatedSalary</th>\n",
       "      <th>Purchased</th>\n",
       "    </tr>\n",
       "  </thead>\n",
       "  <tbody>\n",
       "    <tr>\n",
       "      <th>0</th>\n",
       "      <td>15624510</td>\n",
       "      <td>Male</td>\n",
       "      <td>19</td>\n",
       "      <td>19000</td>\n",
       "      <td>0</td>\n",
       "    </tr>\n",
       "    <tr>\n",
       "      <th>1</th>\n",
       "      <td>15810944</td>\n",
       "      <td>Male</td>\n",
       "      <td>35</td>\n",
       "      <td>20000</td>\n",
       "      <td>0</td>\n",
       "    </tr>\n",
       "    <tr>\n",
       "      <th>2</th>\n",
       "      <td>15668575</td>\n",
       "      <td>Female</td>\n",
       "      <td>26</td>\n",
       "      <td>43000</td>\n",
       "      <td>0</td>\n",
       "    </tr>\n",
       "    <tr>\n",
       "      <th>3</th>\n",
       "      <td>15603246</td>\n",
       "      <td>Female</td>\n",
       "      <td>27</td>\n",
       "      <td>57000</td>\n",
       "      <td>0</td>\n",
       "    </tr>\n",
       "    <tr>\n",
       "      <th>4</th>\n",
       "      <td>15804002</td>\n",
       "      <td>Male</td>\n",
       "      <td>19</td>\n",
       "      <td>76000</td>\n",
       "      <td>0</td>\n",
       "    </tr>\n",
       "  </tbody>\n",
       "</table>\n",
       "</div>"
      ],
      "text/plain": [
       "    User ID  Gender  Age  EstimatedSalary  Purchased\n",
       "0  15624510    Male   19            19000          0\n",
       "1  15810944    Male   35            20000          0\n",
       "2  15668575  Female   26            43000          0\n",
       "3  15603246  Female   27            57000          0\n",
       "4  15804002    Male   19            76000          0"
      ]
     },
     "execution_count": 4,
     "metadata": {},
     "output_type": "execute_result"
    }
   ],
   "source": [
    "df.head()"
   ]
  },
  {
   "cell_type": "code",
   "execution_count": 6,
   "id": "4b12a716-8f61-4798-9105-0024929d8aa0",
   "metadata": {},
   "outputs": [],
   "source": [
    "X = df.iloc[:,2:4].values"
   ]
  },
  {
   "cell_type": "code",
   "execution_count": 7,
   "id": "d7f93d6f-7e36-4cd0-bc1a-b47d1f8e3e0f",
   "metadata": {},
   "outputs": [
    {
     "data": {
      "text/plain": [
       "(400, 2)"
      ]
     },
     "execution_count": 7,
     "metadata": {},
     "output_type": "execute_result"
    }
   ],
   "source": [
    "X.shape"
   ]
  },
  {
   "cell_type": "code",
   "execution_count": 8,
   "id": "726bfc28-5281-4257-9f2b-1dcf72ee32cf",
   "metadata": {},
   "outputs": [
    {
     "data": {
      "text/plain": [
       "(400,)"
      ]
     },
     "execution_count": 8,
     "metadata": {},
     "output_type": "execute_result"
    }
   ],
   "source": [
    "y = df.iloc[:,-1].values\n",
    "y.shape"
   ]
  },
  {
   "cell_type": "code",
   "execution_count": 9,
   "id": "c51351b5-dacc-49fc-8e65-44087f84160c",
   "metadata": {},
   "outputs": [],
   "source": [
    "# train test split\n",
    "from sklearn.model_selection import train_test_split\n",
    "x_train,x_test,y_train,y_test = train_test_split(X,y,test_size = 0.2)"
   ]
  },
  {
   "cell_type": "code",
   "execution_count": 10,
   "id": "ad5f1a0d-e0b6-4bef-99bb-3a75669788d8",
   "metadata": {},
   "outputs": [
    {
     "name": "stdout",
     "output_type": "stream",
     "text": [
      "(320, 2)\n",
      "(80, 2)\n"
     ]
    }
   ],
   "source": [
    "print(x_train.shape)\n",
    "print(x_test.shape)"
   ]
  },
  {
   "cell_type": "code",
   "execution_count": 11,
   "id": "3108477d-c8a7-420e-9511-3f94e79cdd2a",
   "metadata": {},
   "outputs": [],
   "source": [
    "# standard scaling\n",
    "from sklearn.preprocessing import StandardScaler\n",
    "scaler = StandardScaler()\n",
    "x_train = scaler.fit_transform(x_train)\n",
    "x_test = scaler.transform(x_test)"
   ]
  },
  {
   "cell_type": "markdown",
   "id": "d6c536c4-113b-4d5a-8475-75d3ac0bdaac",
   "metadata": {},
   "source": [
    "# calculate value of k \n",
    "- Ist Method"
   ]
  },
  {
   "cell_type": "code",
   "execution_count": 12,
   "id": "20a14a64-50ea-45df-94a2-dc58322f69c7",
   "metadata": {},
   "outputs": [
    {
     "data": {
      "text/plain": [
       "17.88854381999832"
      ]
     },
     "execution_count": 12,
     "metadata": {},
     "output_type": "execute_result"
    }
   ],
   "source": [
    "np.sqrt(x_train.shape[0])"
   ]
  },
  {
   "cell_type": "code",
   "execution_count": 13,
   "id": "cef00bd0-405b-496b-bf0f-0335ab5cdf25",
   "metadata": {},
   "outputs": [],
   "source": [
    "k = 17"
   ]
  },
  {
   "cell_type": "code",
   "execution_count": 15,
   "id": "dbd54a0c-49a1-420e-a110-ad7d064ef621",
   "metadata": {},
   "outputs": [
    {
     "data": {
      "text/html": [
       "<style>#sk-container-id-1 {\n",
       "  /* Definition of color scheme common for light and dark mode */\n",
       "  --sklearn-color-text: black;\n",
       "  --sklearn-color-line: gray;\n",
       "  /* Definition of color scheme for unfitted estimators */\n",
       "  --sklearn-color-unfitted-level-0: #fff5e6;\n",
       "  --sklearn-color-unfitted-level-1: #f6e4d2;\n",
       "  --sklearn-color-unfitted-level-2: #ffe0b3;\n",
       "  --sklearn-color-unfitted-level-3: chocolate;\n",
       "  /* Definition of color scheme for fitted estimators */\n",
       "  --sklearn-color-fitted-level-0: #f0f8ff;\n",
       "  --sklearn-color-fitted-level-1: #d4ebff;\n",
       "  --sklearn-color-fitted-level-2: #b3dbfd;\n",
       "  --sklearn-color-fitted-level-3: cornflowerblue;\n",
       "\n",
       "  /* Specific color for light theme */\n",
       "  --sklearn-color-text-on-default-background: var(--sg-text-color, var(--theme-code-foreground, var(--jp-content-font-color1, black)));\n",
       "  --sklearn-color-background: var(--sg-background-color, var(--theme-background, var(--jp-layout-color0, white)));\n",
       "  --sklearn-color-border-box: var(--sg-text-color, var(--theme-code-foreground, var(--jp-content-font-color1, black)));\n",
       "  --sklearn-color-icon: #696969;\n",
       "\n",
       "  @media (prefers-color-scheme: dark) {\n",
       "    /* Redefinition of color scheme for dark theme */\n",
       "    --sklearn-color-text-on-default-background: var(--sg-text-color, var(--theme-code-foreground, var(--jp-content-font-color1, white)));\n",
       "    --sklearn-color-background: var(--sg-background-color, var(--theme-background, var(--jp-layout-color0, #111)));\n",
       "    --sklearn-color-border-box: var(--sg-text-color, var(--theme-code-foreground, var(--jp-content-font-color1, white)));\n",
       "    --sklearn-color-icon: #878787;\n",
       "  }\n",
       "}\n",
       "\n",
       "#sk-container-id-1 {\n",
       "  color: var(--sklearn-color-text);\n",
       "}\n",
       "\n",
       "#sk-container-id-1 pre {\n",
       "  padding: 0;\n",
       "}\n",
       "\n",
       "#sk-container-id-1 input.sk-hidden--visually {\n",
       "  border: 0;\n",
       "  clip: rect(1px 1px 1px 1px);\n",
       "  clip: rect(1px, 1px, 1px, 1px);\n",
       "  height: 1px;\n",
       "  margin: -1px;\n",
       "  overflow: hidden;\n",
       "  padding: 0;\n",
       "  position: absolute;\n",
       "  width: 1px;\n",
       "}\n",
       "\n",
       "#sk-container-id-1 div.sk-dashed-wrapped {\n",
       "  border: 1px dashed var(--sklearn-color-line);\n",
       "  margin: 0 0.4em 0.5em 0.4em;\n",
       "  box-sizing: border-box;\n",
       "  padding-bottom: 0.4em;\n",
       "  background-color: var(--sklearn-color-background);\n",
       "}\n",
       "\n",
       "#sk-container-id-1 div.sk-container {\n",
       "  /* jupyter's `normalize.less` sets `[hidden] { display: none; }`\n",
       "     but bootstrap.min.css set `[hidden] { display: none !important; }`\n",
       "     so we also need the `!important` here to be able to override the\n",
       "     default hidden behavior on the sphinx rendered scikit-learn.org.\n",
       "     See: https://github.com/scikit-learn/scikit-learn/issues/21755 */\n",
       "  display: inline-block !important;\n",
       "  position: relative;\n",
       "}\n",
       "\n",
       "#sk-container-id-1 div.sk-text-repr-fallback {\n",
       "  display: none;\n",
       "}\n",
       "\n",
       "div.sk-parallel-item,\n",
       "div.sk-serial,\n",
       "div.sk-item {\n",
       "  /* draw centered vertical line to link estimators */\n",
       "  background-image: linear-gradient(var(--sklearn-color-text-on-default-background), var(--sklearn-color-text-on-default-background));\n",
       "  background-size: 2px 100%;\n",
       "  background-repeat: no-repeat;\n",
       "  background-position: center center;\n",
       "}\n",
       "\n",
       "/* Parallel-specific style estimator block */\n",
       "\n",
       "#sk-container-id-1 div.sk-parallel-item::after {\n",
       "  content: \"\";\n",
       "  width: 100%;\n",
       "  border-bottom: 2px solid var(--sklearn-color-text-on-default-background);\n",
       "  flex-grow: 1;\n",
       "}\n",
       "\n",
       "#sk-container-id-1 div.sk-parallel {\n",
       "  display: flex;\n",
       "  align-items: stretch;\n",
       "  justify-content: center;\n",
       "  background-color: var(--sklearn-color-background);\n",
       "  position: relative;\n",
       "}\n",
       "\n",
       "#sk-container-id-1 div.sk-parallel-item {\n",
       "  display: flex;\n",
       "  flex-direction: column;\n",
       "}\n",
       "\n",
       "#sk-container-id-1 div.sk-parallel-item:first-child::after {\n",
       "  align-self: flex-end;\n",
       "  width: 50%;\n",
       "}\n",
       "\n",
       "#sk-container-id-1 div.sk-parallel-item:last-child::after {\n",
       "  align-self: flex-start;\n",
       "  width: 50%;\n",
       "}\n",
       "\n",
       "#sk-container-id-1 div.sk-parallel-item:only-child::after {\n",
       "  width: 0;\n",
       "}\n",
       "\n",
       "/* Serial-specific style estimator block */\n",
       "\n",
       "#sk-container-id-1 div.sk-serial {\n",
       "  display: flex;\n",
       "  flex-direction: column;\n",
       "  align-items: center;\n",
       "  background-color: var(--sklearn-color-background);\n",
       "  padding-right: 1em;\n",
       "  padding-left: 1em;\n",
       "}\n",
       "\n",
       "\n",
       "/* Toggleable style: style used for estimator/Pipeline/ColumnTransformer box that is\n",
       "clickable and can be expanded/collapsed.\n",
       "- Pipeline and ColumnTransformer use this feature and define the default style\n",
       "- Estimators will overwrite some part of the style using the `sk-estimator` class\n",
       "*/\n",
       "\n",
       "/* Pipeline and ColumnTransformer style (default) */\n",
       "\n",
       "#sk-container-id-1 div.sk-toggleable {\n",
       "  /* Default theme specific background. It is overwritten whether we have a\n",
       "  specific estimator or a Pipeline/ColumnTransformer */\n",
       "  background-color: var(--sklearn-color-background);\n",
       "}\n",
       "\n",
       "/* Toggleable label */\n",
       "#sk-container-id-1 label.sk-toggleable__label {\n",
       "  cursor: pointer;\n",
       "  display: block;\n",
       "  width: 100%;\n",
       "  margin-bottom: 0;\n",
       "  padding: 0.5em;\n",
       "  box-sizing: border-box;\n",
       "  text-align: center;\n",
       "}\n",
       "\n",
       "#sk-container-id-1 label.sk-toggleable__label-arrow:before {\n",
       "  /* Arrow on the left of the label */\n",
       "  content: \"▸\";\n",
       "  float: left;\n",
       "  margin-right: 0.25em;\n",
       "  color: var(--sklearn-color-icon);\n",
       "}\n",
       "\n",
       "#sk-container-id-1 label.sk-toggleable__label-arrow:hover:before {\n",
       "  color: var(--sklearn-color-text);\n",
       "}\n",
       "\n",
       "/* Toggleable content - dropdown */\n",
       "\n",
       "#sk-container-id-1 div.sk-toggleable__content {\n",
       "  max-height: 0;\n",
       "  max-width: 0;\n",
       "  overflow: hidden;\n",
       "  text-align: left;\n",
       "  /* unfitted */\n",
       "  background-color: var(--sklearn-color-unfitted-level-0);\n",
       "}\n",
       "\n",
       "#sk-container-id-1 div.sk-toggleable__content.fitted {\n",
       "  /* fitted */\n",
       "  background-color: var(--sklearn-color-fitted-level-0);\n",
       "}\n",
       "\n",
       "#sk-container-id-1 div.sk-toggleable__content pre {\n",
       "  margin: 0.2em;\n",
       "  border-radius: 0.25em;\n",
       "  color: var(--sklearn-color-text);\n",
       "  /* unfitted */\n",
       "  background-color: var(--sklearn-color-unfitted-level-0);\n",
       "}\n",
       "\n",
       "#sk-container-id-1 div.sk-toggleable__content.fitted pre {\n",
       "  /* unfitted */\n",
       "  background-color: var(--sklearn-color-fitted-level-0);\n",
       "}\n",
       "\n",
       "#sk-container-id-1 input.sk-toggleable__control:checked~div.sk-toggleable__content {\n",
       "  /* Expand drop-down */\n",
       "  max-height: 200px;\n",
       "  max-width: 100%;\n",
       "  overflow: auto;\n",
       "}\n",
       "\n",
       "#sk-container-id-1 input.sk-toggleable__control:checked~label.sk-toggleable__label-arrow:before {\n",
       "  content: \"▾\";\n",
       "}\n",
       "\n",
       "/* Pipeline/ColumnTransformer-specific style */\n",
       "\n",
       "#sk-container-id-1 div.sk-label input.sk-toggleable__control:checked~label.sk-toggleable__label {\n",
       "  color: var(--sklearn-color-text);\n",
       "  background-color: var(--sklearn-color-unfitted-level-2);\n",
       "}\n",
       "\n",
       "#sk-container-id-1 div.sk-label.fitted input.sk-toggleable__control:checked~label.sk-toggleable__label {\n",
       "  background-color: var(--sklearn-color-fitted-level-2);\n",
       "}\n",
       "\n",
       "/* Estimator-specific style */\n",
       "\n",
       "/* Colorize estimator box */\n",
       "#sk-container-id-1 div.sk-estimator input.sk-toggleable__control:checked~label.sk-toggleable__label {\n",
       "  /* unfitted */\n",
       "  background-color: var(--sklearn-color-unfitted-level-2);\n",
       "}\n",
       "\n",
       "#sk-container-id-1 div.sk-estimator.fitted input.sk-toggleable__control:checked~label.sk-toggleable__label {\n",
       "  /* fitted */\n",
       "  background-color: var(--sklearn-color-fitted-level-2);\n",
       "}\n",
       "\n",
       "#sk-container-id-1 div.sk-label label.sk-toggleable__label,\n",
       "#sk-container-id-1 div.sk-label label {\n",
       "  /* The background is the default theme color */\n",
       "  color: var(--sklearn-color-text-on-default-background);\n",
       "}\n",
       "\n",
       "/* On hover, darken the color of the background */\n",
       "#sk-container-id-1 div.sk-label:hover label.sk-toggleable__label {\n",
       "  color: var(--sklearn-color-text);\n",
       "  background-color: var(--sklearn-color-unfitted-level-2);\n",
       "}\n",
       "\n",
       "/* Label box, darken color on hover, fitted */\n",
       "#sk-container-id-1 div.sk-label.fitted:hover label.sk-toggleable__label.fitted {\n",
       "  color: var(--sklearn-color-text);\n",
       "  background-color: var(--sklearn-color-fitted-level-2);\n",
       "}\n",
       "\n",
       "/* Estimator label */\n",
       "\n",
       "#sk-container-id-1 div.sk-label label {\n",
       "  font-family: monospace;\n",
       "  font-weight: bold;\n",
       "  display: inline-block;\n",
       "  line-height: 1.2em;\n",
       "}\n",
       "\n",
       "#sk-container-id-1 div.sk-label-container {\n",
       "  text-align: center;\n",
       "}\n",
       "\n",
       "/* Estimator-specific */\n",
       "#sk-container-id-1 div.sk-estimator {\n",
       "  font-family: monospace;\n",
       "  border: 1px dotted var(--sklearn-color-border-box);\n",
       "  border-radius: 0.25em;\n",
       "  box-sizing: border-box;\n",
       "  margin-bottom: 0.5em;\n",
       "  /* unfitted */\n",
       "  background-color: var(--sklearn-color-unfitted-level-0);\n",
       "}\n",
       "\n",
       "#sk-container-id-1 div.sk-estimator.fitted {\n",
       "  /* fitted */\n",
       "  background-color: var(--sklearn-color-fitted-level-0);\n",
       "}\n",
       "\n",
       "/* on hover */\n",
       "#sk-container-id-1 div.sk-estimator:hover {\n",
       "  /* unfitted */\n",
       "  background-color: var(--sklearn-color-unfitted-level-2);\n",
       "}\n",
       "\n",
       "#sk-container-id-1 div.sk-estimator.fitted:hover {\n",
       "  /* fitted */\n",
       "  background-color: var(--sklearn-color-fitted-level-2);\n",
       "}\n",
       "\n",
       "/* Specification for estimator info (e.g. \"i\" and \"?\") */\n",
       "\n",
       "/* Common style for \"i\" and \"?\" */\n",
       "\n",
       ".sk-estimator-doc-link,\n",
       "a:link.sk-estimator-doc-link,\n",
       "a:visited.sk-estimator-doc-link {\n",
       "  float: right;\n",
       "  font-size: smaller;\n",
       "  line-height: 1em;\n",
       "  font-family: monospace;\n",
       "  background-color: var(--sklearn-color-background);\n",
       "  border-radius: 1em;\n",
       "  height: 1em;\n",
       "  width: 1em;\n",
       "  text-decoration: none !important;\n",
       "  margin-left: 1ex;\n",
       "  /* unfitted */\n",
       "  border: var(--sklearn-color-unfitted-level-1) 1pt solid;\n",
       "  color: var(--sklearn-color-unfitted-level-1);\n",
       "}\n",
       "\n",
       ".sk-estimator-doc-link.fitted,\n",
       "a:link.sk-estimator-doc-link.fitted,\n",
       "a:visited.sk-estimator-doc-link.fitted {\n",
       "  /* fitted */\n",
       "  border: var(--sklearn-color-fitted-level-1) 1pt solid;\n",
       "  color: var(--sklearn-color-fitted-level-1);\n",
       "}\n",
       "\n",
       "/* On hover */\n",
       "div.sk-estimator:hover .sk-estimator-doc-link:hover,\n",
       ".sk-estimator-doc-link:hover,\n",
       "div.sk-label-container:hover .sk-estimator-doc-link:hover,\n",
       ".sk-estimator-doc-link:hover {\n",
       "  /* unfitted */\n",
       "  background-color: var(--sklearn-color-unfitted-level-3);\n",
       "  color: var(--sklearn-color-background);\n",
       "  text-decoration: none;\n",
       "}\n",
       "\n",
       "div.sk-estimator.fitted:hover .sk-estimator-doc-link.fitted:hover,\n",
       ".sk-estimator-doc-link.fitted:hover,\n",
       "div.sk-label-container:hover .sk-estimator-doc-link.fitted:hover,\n",
       ".sk-estimator-doc-link.fitted:hover {\n",
       "  /* fitted */\n",
       "  background-color: var(--sklearn-color-fitted-level-3);\n",
       "  color: var(--sklearn-color-background);\n",
       "  text-decoration: none;\n",
       "}\n",
       "\n",
       "/* Span, style for the box shown on hovering the info icon */\n",
       ".sk-estimator-doc-link span {\n",
       "  display: none;\n",
       "  z-index: 9999;\n",
       "  position: relative;\n",
       "  font-weight: normal;\n",
       "  right: .2ex;\n",
       "  padding: .5ex;\n",
       "  margin: .5ex;\n",
       "  width: min-content;\n",
       "  min-width: 20ex;\n",
       "  max-width: 50ex;\n",
       "  color: var(--sklearn-color-text);\n",
       "  box-shadow: 2pt 2pt 4pt #999;\n",
       "  /* unfitted */\n",
       "  background: var(--sklearn-color-unfitted-level-0);\n",
       "  border: .5pt solid var(--sklearn-color-unfitted-level-3);\n",
       "}\n",
       "\n",
       ".sk-estimator-doc-link.fitted span {\n",
       "  /* fitted */\n",
       "  background: var(--sklearn-color-fitted-level-0);\n",
       "  border: var(--sklearn-color-fitted-level-3);\n",
       "}\n",
       "\n",
       ".sk-estimator-doc-link:hover span {\n",
       "  display: block;\n",
       "}\n",
       "\n",
       "/* \"?\"-specific style due to the `<a>` HTML tag */\n",
       "\n",
       "#sk-container-id-1 a.estimator_doc_link {\n",
       "  float: right;\n",
       "  font-size: 1rem;\n",
       "  line-height: 1em;\n",
       "  font-family: monospace;\n",
       "  background-color: var(--sklearn-color-background);\n",
       "  border-radius: 1rem;\n",
       "  height: 1rem;\n",
       "  width: 1rem;\n",
       "  text-decoration: none;\n",
       "  /* unfitted */\n",
       "  color: var(--sklearn-color-unfitted-level-1);\n",
       "  border: var(--sklearn-color-unfitted-level-1) 1pt solid;\n",
       "}\n",
       "\n",
       "#sk-container-id-1 a.estimator_doc_link.fitted {\n",
       "  /* fitted */\n",
       "  border: var(--sklearn-color-fitted-level-1) 1pt solid;\n",
       "  color: var(--sklearn-color-fitted-level-1);\n",
       "}\n",
       "\n",
       "/* On hover */\n",
       "#sk-container-id-1 a.estimator_doc_link:hover {\n",
       "  /* unfitted */\n",
       "  background-color: var(--sklearn-color-unfitted-level-3);\n",
       "  color: var(--sklearn-color-background);\n",
       "  text-decoration: none;\n",
       "}\n",
       "\n",
       "#sk-container-id-1 a.estimator_doc_link.fitted:hover {\n",
       "  /* fitted */\n",
       "  background-color: var(--sklearn-color-fitted-level-3);\n",
       "}\n",
       "</style><div id=\"sk-container-id-1\" class=\"sk-top-container\"><div class=\"sk-text-repr-fallback\"><pre>KNeighborsClassifier(n_neighbors=17)</pre><b>In a Jupyter environment, please rerun this cell to show the HTML representation or trust the notebook. <br />On GitHub, the HTML representation is unable to render, please try loading this page with nbviewer.org.</b></div><div class=\"sk-container\" hidden><div class=\"sk-item\"><div class=\"sk-estimator fitted sk-toggleable\"><input class=\"sk-toggleable__control sk-hidden--visually\" id=\"sk-estimator-id-1\" type=\"checkbox\" checked><label for=\"sk-estimator-id-1\" class=\"sk-toggleable__label fitted sk-toggleable__label-arrow fitted\">&nbsp;&nbsp;KNeighborsClassifier<a class=\"sk-estimator-doc-link fitted\" rel=\"noreferrer\" target=\"_blank\" href=\"https://scikit-learn.org/1.5/modules/generated/sklearn.neighbors.KNeighborsClassifier.html\">?<span>Documentation for KNeighborsClassifier</span></a><span class=\"sk-estimator-doc-link fitted\">i<span>Fitted</span></span></label><div class=\"sk-toggleable__content fitted\"><pre>KNeighborsClassifier(n_neighbors=17)</pre></div> </div></div></div></div>"
      ],
      "text/plain": [
       "KNeighborsClassifier(n_neighbors=17)"
      ]
     },
     "execution_count": 15,
     "metadata": {},
     "output_type": "execute_result"
    }
   ],
   "source": [
    "# import the knn classifier from the sklearn\n",
    "from sklearn.neighbors import KNeighborsClassifier\n",
    "knn = KNeighborsClassifier(n_neighbors=k) # make an object of knn\n",
    "# fit the model\n",
    "knn.fit(x_train,y_train)"
   ]
  },
  {
   "cell_type": "code",
   "execution_count": 17,
   "id": "69fa4ea4-5088-4dce-ae05-4bbb42ddb4dc",
   "metadata": {},
   "outputs": [
    {
     "name": "stdout",
     "output_type": "stream",
     "text": [
      "[0 0 1 0 0 0 0 0 1 1 0 0 0 1 1 0 0 0 0 1 0 1 1 0 0 0 0 0 1 1 0 0 1 0 1 1 1\n",
      " 1 0 0 0 1 1 1 1 0 0 0 0 1 1 0 0 1 0 1 0 0 1 0 0 1 1 0 0 1 0 1 0 1 1 0 1 1\n",
      " 1 1 0 0 1 0]\n",
      "(80,)\n"
     ]
    }
   ],
   "source": [
    "y_pred = knn.predict(x_test)\n",
    "print(y_pred)\n",
    "print(y_pred.shape)"
   ]
  },
  {
   "cell_type": "code",
   "execution_count": 18,
   "id": "95e32f8e-3962-4706-bae6-563505610f32",
   "metadata": {},
   "outputs": [
    {
     "name": "stdout",
     "output_type": "stream",
     "text": [
      "0.9625\n"
     ]
    }
   ],
   "source": [
    "# import accuracy score class to compare y test with y_pred\n",
    "from sklearn.metrics import accuracy_score\n",
    "print(accuracy_score(y_test,y_pred))"
   ]
  },
  {
   "cell_type": "code",
   "execution_count": 20,
   "id": "783d28da-4825-461c-81eb-0e4cfbe502f3",
   "metadata": {},
   "outputs": [
    {
     "name": "stdout",
     "output_type": "stream",
     "text": [
      "[[45  3]\n",
      " [ 0 32]]\n"
     ]
    }
   ],
   "source": [
    "# calcuate the confusion matrix\n",
    "from sklearn.metrics import confusion_matrix\n",
    "print(confusion_matrix(y_test,y_pred))"
   ]
  },
  {
   "cell_type": "markdown",
   "id": "817ec5ff-ad85-4bb2-9be3-e2067685ca72",
   "metadata": {},
   "source": [
    "# Second Method of computing K\n",
    "- Trail and error method"
   ]
  },
  {
   "cell_type": "code",
   "execution_count": 21,
   "id": "0873cd04-9d5b-4f98-a041-105c4a5d5934",
   "metadata": {},
   "outputs": [],
   "source": [
    "accuracy = []\n",
    "for i in range(1,26):\n",
    "    knn = KNeighborsClassifier(n_neighbors=i)\n",
    "    knn.fit(x_train,y_train)\n",
    "    accuracy.append(accuracy_score(y_test,knn.predict(x_test)))"
   ]
  },
  {
   "cell_type": "code",
   "execution_count": 23,
   "id": "d70fdca0-a3dc-4026-960d-e37dd490e895",
   "metadata": {},
   "outputs": [
    {
     "data": {
      "text/plain": [
       "25"
      ]
     },
     "execution_count": 23,
     "metadata": {},
     "output_type": "execute_result"
    }
   ],
   "source": [
    "len(accuracy)"
   ]
  },
  {
   "cell_type": "code",
   "execution_count": 25,
   "id": "e31af767-73df-4e39-9b38-4a6d4bcb2635",
   "metadata": {},
   "outputs": [
    {
     "data": {
      "image/png": "[encoded data removed]",
      "text/plain": [
       "<Figure size 640x480 with 1 Axes>"
      ]
     },
     "metadata": {},
     "output_type": "display_data"
    }
   ],
   "source": [
    "plt.plot(range(1,26),accuracy)\n",
    "plt.show()"
   ]
  },
  {
   "cell_type": "code",
   "execution_count": 35,
   "id": "1895bdd1-cd18-45ce-ba22-b36393d2d2ca",
   "metadata": {},
   "outputs": [
    {
     "name": "stdout",
     "output_type": "stream",
     "text": [
      "0.9625\n"
     ]
    }
   ],
   "source": [
    "# do the same operation again this time k will be greater than 10\n",
    "knn = KNeighborsClassifier(n_neighbors=11)\n",
    "knn.fit(x_train,y_train)\n",
    "y_pred = knn.predict(x_test)\n",
    "print(accuracy_score(y_test,y_pred))"
   ]
  },
  {
   "cell_type": "code",
   "execution_count": 38,
   "id": "da251573-1bad-4291-afc2-b89cc87ca99f",
   "metadata": {},
   "outputs": [],
   "source": [
    "def predict_output():\n",
    "    age = int(input(\"Enter the age : \"))\n",
    "    salary = int(input(\"enter the salary : \"))\n",
    "    x_new = np.array([[age],[salary]]).reshape(1,2)\n",
    "    x_new  =scaler.transform(x_new)\n",
    "    if knn.predict(x_new)[0] == 0:\n",
    "        return 'Will not purchase'\n",
    "    else:\n",
    "        return 'Will PUrchase'"
   ]
  },
  {
   "cell_type": "code",
   "execution_count": 39,
   "id": "fcc919e2-d168-4604-8431-1ef67a429573",
   "metadata": {},
   "outputs": [
    {
     "name": "stdin",
     "output_type": "stream",
     "text": [
      "Enter the age :  34\n",
      "enter the salary :  22\n"
     ]
    },
    {
     "data": {
      "text/plain": [
       "'Will not purchase'"
      ]
     },
     "execution_count": 39,
     "metadata": {},
     "output_type": "execute_result"
    }
   ],
   "source": [
    "predict_output()"
   ]
  },
  {
   "cell_type": "markdown",
   "id": "13e68497-8e63-43e8-b79b-0f22e0744066",
   "metadata": {},
   "source": [
    "\n",
    "\n",
    "1. Decision Boundary for Knn\n",
    "1. What is Decision Boundary\n",
    "In a classification problem with two or more classes, a decision boundary or decision surface is a hypersurface that partitions the underlying vector space into two or more sets, one for each class. The classifier will classify all the points on one side of the decision boundary as belonging to one class and all those on the other side as belonging to the other class.\n",
    "\n",
    "Important Points\n",
    "We can draw decision boundary for all the classification algorithms including Neural networks\n",
    "Decision boundary can be both linear(as in the case of SVM) or non-linear(as in the case of Decision tree classifier or Knn)\n",
    "Decision boundaries are not always clear cut. That is, the transition from one class in the feature space to another is not discontinuous, but gradual. This effect is common in fuzzy logic based classification algorithms, where membership in one class or another is ambiguous.\n",
    "For higher dimension problems the decision boundary acts as a hyperplane(for linear ones)\n",
    "\n",
    "\n",
    "In mathematics, a Voronoi diagram is a partitioning of a plane into regions based on distance to points in a specific subset of the plane.\n",
    "\n",
    "\n",
    "3. Steps to plot Decision Boundary for Knn(Assuming 2 input cols)\n",
    "Train the classifier on the training set.\n",
    "Create a uniform grid(with the help of Numpy Meshgrids) of points that densely cover the region of input space containing the training set.\n",
    "Classify each point on the grid. Store the results in an array A, where Aij contains the predicted class for the point at row i, column j on the grid.\n",
    "Plot the array as an image, where each pixel corresponds to a grid point and its color represents the predicted class. The decision boundary can be seen as contours where the image changes color.\n",
    "Finally print out the training data with their respective color on the same contour\n",
    "Step 2: Creating a Meshgrid"
   ]
  },
  {
   "cell_type": "code",
   "execution_count": 40,
   "id": "3c7ab541-1fc1-4183-8b20-f9a7144223ef",
   "metadata": {},
   "outputs": [
    {
     "data": {
      "text/plain": [
       "[array([[1, 2, 3],\n",
       "        [1, 2, 3],\n",
       "        [1, 2, 3]]),\n",
       " array([[4, 4, 4],\n",
       "        [5, 5, 5],\n",
       "        [6, 6, 6]])]"
      ]
     },
     "execution_count": 40,
     "metadata": {},
     "output_type": "execute_result"
    }
   ],
   "source": [
    "x = np.array([1,2,3])\n",
    "y = np.array([4,5,6])\n",
    "np.meshgrid(x,y)"
   ]
  },
  {
   "cell_type": "code",
   "execution_count": 41,
   "id": "01e93299-ba56-4264-a97a-b0af7dbbaba5",
   "metadata": {},
   "outputs": [],
   "source": [
    "x = np.linspace(-40,40,100)\n",
    "y = np.linspace(-50,50,90)\n",
    "xx,xy = np.meshgrid(x,y)"
   ]
  },
  {
   "cell_type": "code",
   "execution_count": 43,
   "id": "44df8dcc-8f0d-407d-85ab-ecc45f4b4db6",
   "metadata": {},
   "outputs": [
    {
     "data": {
      "text/plain": [
       "<matplotlib.contour.QuadContourSet at 0x1bda7926a20>"
      ]
     },
     "execution_count": 43,
     "metadata": {},
     "output_type": "execute_result"
    },
    {
     "data": {
      "image/png": "[encoded data removed]",
      "text/plain": [
       "<Figure size 640x480 with 1 Axes>"
      ]
     },
     "metadata": {},
     "output_type": "display_data"
    }
   ],
   "source": [
    "z = (xx ** 2) + (xy** 2)\n",
    "plt.contourf(xx,xy,z)"
   ]
  },
  {
   "cell_type": "code",
   "execution_count": 44,
   "id": "36591085-aea2-4569-b589-cb390d6274bf",
   "metadata": {},
   "outputs": [
    {
     "data": {
      "text/plain": [
       "array([[ 0.78770324,  0.26733667],\n",
       "       [-0.72110356,  1.35580511],\n",
       "       [ 2.10790919, -0.7034595 ],\n",
       "       [-0.24960144, -0.49753304],\n",
       "       [ 0.12760026,  1.88533029],\n",
       "       [-0.81540399,  0.29675474],\n",
       "       [ 0.31620111,  0.06141021],\n",
       "       [-1.47550697,  0.3261728 ],\n",
       "       [ 1.82500792, -1.29182081],\n",
       "       [ 0.12760026, -0.82113176],\n",
       "       [ 0.88200366, -1.46832921],\n",
       "       [-1.47550697, -1.52716534],\n",
       "       [-0.15530101,  1.41464124],\n",
       "       [ 0.03329984,  0.29675474],\n",
       "       [-1.28690612,  0.414427  ],\n",
       "       [-0.43820229, -0.55636917],\n",
       "       [-0.15530101, -1.08589435],\n",
       "       [-0.15530101,  2.17951095],\n",
       "       [ 0.88200366, -0.58578723],\n",
       "       [ 0.03329984, -0.14451625],\n",
       "       [-1.85270867,  0.35559087],\n",
       "       [ 0.97630409, -1.02705822],\n",
       "       [-0.81540399, -0.7917137 ],\n",
       "       [-0.24960144, -0.58578723],\n",
       "       [ 0.03329984, -0.26218851],\n",
       "       [-0.43820229, -0.29160658],\n",
       "       [ 0.03329984, -0.32102464],\n",
       "       [-1.66410782,  0.35559087],\n",
       "       [ 0.31620111, -0.55636917],\n",
       "       [-1.66410782, -1.38007501],\n",
       "       [ 0.69340281, -1.29182081],\n",
       "       [-0.06100059, -0.43869691],\n",
       "       [-1.66410782,  0.12024634],\n",
       "       [ 1.35350579,  2.00300255],\n",
       "       [ 1.73070749,  1.85591223],\n",
       "       [-0.15530101, -0.29160658],\n",
       "       [ 0.22190069, -0.26218851],\n",
       "       [-1.66410782,  0.47326313],\n",
       "       [-0.72110356, -0.23277045],\n",
       "       [ 1.44780622,  0.06141021],\n",
       "       [-1.00400484, -0.35044271],\n",
       "       [-1.28690612, -0.43869691],\n",
       "       [ 0.31620111, -0.5269511 ],\n",
       "       [-1.00400484, -1.46832921],\n",
       "       [ 1.35350579,  2.35601934],\n",
       "       [-0.15530101, -0.58578723],\n",
       "       [ 0.41050154, -0.49753304],\n",
       "       [ 0.22190069, -0.37986077],\n",
       "       [ 1.25920537,  2.23834708],\n",
       "       [-0.43820229, -1.14473048],\n",
       "       [ 0.88200366, -1.17414855],\n",
       "       [ 0.41050154, -0.14451625],\n",
       "       [-0.24960144,  0.03199215],\n",
       "       [ 0.31620111, -0.29160658],\n",
       "       [-0.24960144, -0.37986077],\n",
       "       [-0.53250271,  0.88511605],\n",
       "       [-0.53250271,  1.91474836],\n",
       "       [ 0.97630409, -1.17414855],\n",
       "       [ 0.88200366,  1.09104251],\n",
       "       [-1.00400484,  0.56151733],\n",
       "       [ 1.82500792,  0.12024634],\n",
       "       [-1.00400484, -1.55658341],\n",
       "       [ 0.41050154,  1.00278832],\n",
       "       [ 0.88200366,  1.26755091],\n",
       "       [-0.72110356,  0.56151733],\n",
       "       [ 0.31620111,  0.26733667],\n",
       "       [-0.43820229, -0.7917137 ],\n",
       "       [-1.75840824, -1.43891114],\n",
       "       [ 2.10790919, -1.05647629],\n",
       "       [ 0.12760026,  1.06162445],\n",
       "       [-0.24960144, -0.26218851],\n",
       "       [-0.72110356, -1.55658341],\n",
       "       [ 1.07060452, -0.14451625],\n",
       "       [-1.09830526,  0.3261728 ],\n",
       "       [-0.24960144, -0.14451625],\n",
       "       [-0.72110356,  0.5026812 ],\n",
       "       [-1.85270867,  0.47326313],\n",
       "       [ 0.97630409,  1.79707609],\n",
       "       [-0.62680314, -0.05626205],\n",
       "       [-1.00400484, -1.14473048],\n",
       "       [-0.24960144,  0.14966441],\n",
       "       [ 0.88200366, -0.55636917],\n",
       "       [-1.09830526, -1.58600147],\n",
       "       [ 1.44780622,  1.00278832],\n",
       "       [ 0.03329984,  0.03199215],\n",
       "       [ 0.31620111,  0.5026812 ],\n",
       "       [ 1.07060452,  0.12024634],\n",
       "       [-1.09830526, -0.7917137 ],\n",
       "       [-1.09830526, -1.11531242],\n",
       "       [-0.81540399, -0.26218851],\n",
       "       [-1.28690612, -0.35044271],\n",
       "       [-1.75840824, -1.49774727],\n",
       "       [ 0.78770324, -1.11531242],\n",
       "       [ 1.35350579,  0.5909354 ],\n",
       "       [-1.38120654, -0.20335238],\n",
       "       [ 1.44780622, -1.05647629],\n",
       "       [ 2.10790919, -0.82113176],\n",
       "       [ 0.69340281,  1.79707609],\n",
       "       [ 0.97630409,  1.88533029],\n",
       "       [ 1.73070749,  1.00278832],\n",
       "       [ 2.01360877, -1.20356662],\n",
       "       [-1.85270867, -0.05626205],\n",
       "       [ 0.12760026,  0.03199215],\n",
       "       [-1.66410782, -0.99764016],\n",
       "       [-0.62680314, -1.52716534],\n",
       "       [-0.34390186,  1.32638704],\n",
       "       [ 0.97630409,  2.00300255],\n",
       "       [ 1.91930834, -0.67404143],\n",
       "       [ 0.97630409, -1.08589435],\n",
       "       [ 0.41050154,  0.26733667],\n",
       "       [-0.06100059,  0.00257408],\n",
       "       [ 0.41050154,  0.14966441],\n",
       "       [ 0.22190069, -0.29160658],\n",
       "       [ 1.07060452, -1.23298468],\n",
       "       [ 0.22190069,  0.03199215],\n",
       "       [-0.15530101,  0.14966441],\n",
       "       [-0.06100059,  0.29675474],\n",
       "       [ 0.31620111,  0.06141021],\n",
       "       [ 0.03329984,  1.23813284],\n",
       "       [-0.53250271,  1.38522317],\n",
       "       [-0.53250271, -1.52716534],\n",
       "       [-1.66410782,  0.35559087],\n",
       "       [ 0.41050154,  0.29675474],\n",
       "       [-1.75840824,  0.44384507],\n",
       "       [-0.15530101,  0.85569799],\n",
       "       [-0.24960144,  0.62035346],\n",
       "       [ 0.88200366, -1.38007501],\n",
       "       [ 0.88200366, -1.32123888],\n",
       "       [-0.53250271, -1.52716534],\n",
       "       [-0.24960144, -1.40949308],\n",
       "       [ 2.01360877,  0.38500894],\n",
       "       [ 2.01360877,  2.15009288],\n",
       "       [-0.06100059,  0.14966441],\n",
       "       [-0.24960144,  0.26733667],\n",
       "       [-0.90970441,  0.56151733],\n",
       "       [-1.75840824, -1.29182081],\n",
       "       [-1.00400484,  1.97358449],\n",
       "       [ 1.35350579, -0.93880402],\n",
       "       [-0.34390186, -0.7917137 ],\n",
       "       [ 0.41050154, -0.17393431],\n",
       "       [ 1.63640707,  1.76765803],\n",
       "       [-1.47550697, -1.26240275],\n",
       "       [-0.24960144,  0.79686186],\n",
       "       [-0.06100059,  0.06141021],\n",
       "       [ 1.25920537,  1.88533029],\n",
       "       [-1.28690612, -0.43869691],\n",
       "       [-1.09830526,  0.29675474],\n",
       "       [ 0.22190069, -0.67404143],\n",
       "       [-0.81540399,  0.38500894],\n",
       "       [-0.81540399,  0.38500894],\n",
       "       [-0.24960144,  0.09082828],\n",
       "       [ 0.12760026, -0.32102464],\n",
       "       [ 1.63640707, -0.90938596],\n",
       "       [-1.56980739,  0.06141021],\n",
       "       [-0.06100059,  0.67918959],\n",
       "       [-1.09830526, -1.02705822],\n",
       "       [ 1.16490494, -1.46832921],\n",
       "       [ 0.22190069,  0.14966441],\n",
       "       [-0.15530101, -0.5269511 ],\n",
       "       [ 1.07060452,  0.47326313],\n",
       "       [-1.47550697, -0.43869691],\n",
       "       [ 1.54210664,  0.00257408],\n",
       "       [ 0.78770324, -0.32102464],\n",
       "       [ 1.82500792,  1.5323135 ],\n",
       "       [ 1.35350579,  1.29696898],\n",
       "       [ 0.97630409,  0.76744379],\n",
       "       [-0.90970441,  0.44384507],\n",
       "       [-0.24960144, -0.67404143],\n",
       "       [ 1.91930834, -1.38007501],\n",
       "       [-1.09830526,  0.414427  ],\n",
       "       [ 0.03329984,  0.03199215],\n",
       "       [ 0.78770324,  0.35559087],\n",
       "       [ 0.12760026,  1.5323135 ],\n",
       "       [ 1.91930834, -0.93880402],\n",
       "       [-0.81540399, -1.23298468],\n",
       "       [ 1.16490494,  0.53209926],\n",
       "       [ 1.25920537, -1.38007501],\n",
       "       [-0.43820229, -0.02684399],\n",
       "       [ 0.88200366, -0.7917137 ],\n",
       "       [ 0.41050154,  2.32660128],\n",
       "       [ 0.78770324,  0.12024634],\n",
       "       [-1.19260569,  0.26733667],\n",
       "       [-0.06100059,  0.20850054],\n",
       "       [ 0.97630409, -1.20356662],\n",
       "       [-1.09830526,  0.29675474],\n",
       "       [-0.06100059, -0.37986077],\n",
       "       [ 1.91930834,  0.73802573],\n",
       "       [-1.00400484, -0.35044271],\n",
       "       [ 1.07060452, -0.99764016],\n",
       "       [ 0.12760026,  0.26733667],\n",
       "       [-1.56980739,  0.53209926],\n",
       "       [ 0.31620111,  0.29675474],\n",
       "       [ 0.69340281, -1.11531242],\n",
       "       [-0.62680314,  0.03199215],\n",
       "       [-0.81540399,  2.29718321],\n",
       "       [-0.62680314, -1.61541954],\n",
       "       [ 0.78770324, -1.23298468],\n",
       "       [-0.53250271,  0.47326313],\n",
       "       [ 1.82500792, -1.08589435],\n",
       "       [ 0.31620111, -0.5269511 ],\n",
       "       [-1.56980739, -0.05626205],\n",
       "       [-0.24960144, -0.29160658],\n",
       "       [ 0.03329984, -0.55636917],\n",
       "       [ 0.69340281, -0.73287756],\n",
       "       [-1.28690612, -1.26240275],\n",
       "       [-1.38120654,  0.35559087],\n",
       "       [-0.43820229, -0.85054983],\n",
       "       [ 0.12760026,  0.20850054],\n",
       "       [-0.53250271,  1.47347737],\n",
       "       [ 0.41050154,  0.00257408],\n",
       "       [ 1.35350579, -1.43891114],\n",
       "       [-0.24960144,  0.20850054],\n",
       "       [-1.09830526,  0.47326313],\n",
       "       [ 2.01360877,  0.53209926],\n",
       "       [-0.34390186,  0.06141021],\n",
       "       [ 0.69340281,  0.26733667],\n",
       "       [ 2.01360877, -0.82113176],\n",
       "       [-0.90970441,  0.414427  ],\n",
       "       [ 1.73070749, -0.29160658],\n",
       "       [ 1.91930834,  2.17951095],\n",
       "       [-0.43820229,  2.32660128],\n",
       "       [-0.34390186, -0.7917137 ],\n",
       "       [ 0.12760026, -0.26218851],\n",
       "       [-0.06100059,  2.23834708],\n",
       "       [ 0.12760026,  0.09082828],\n",
       "       [ 0.88200366,  1.03220638],\n",
       "       [-0.24960144, -1.38007501],\n",
       "       [-0.90970441,  0.26733667],\n",
       "       [-0.24960144,  0.53209926],\n",
       "       [-1.09830526, -1.61541954],\n",
       "       [-0.06100059,  1.97358449],\n",
       "       [-0.90970441, -1.11531242],\n",
       "       [-0.90970441, -0.96822209],\n",
       "       [-0.72110356, -0.6152053 ],\n",
       "       [ 0.12760026,  0.14966441],\n",
       "       [-0.90970441, -0.43869691],\n",
       "       [ 0.50480196,  1.85591223],\n",
       "       [-0.72110356, -1.61541954],\n",
       "       [-0.24960144, -0.58578723],\n",
       "       [-0.24960144, -0.43869691],\n",
       "       [ 0.41050154,  0.5909354 ],\n",
       "       [ 1.82500792, -0.29160658],\n",
       "       [ 0.78770324,  0.53209926],\n",
       "       [-1.85270867, -0.5269511 ],\n",
       "       [-0.62680314,  0.12024634],\n",
       "       [ 0.41050154, -0.46811497],\n",
       "       [ 1.16490494, -0.99764016],\n",
       "       [-1.28690612, -1.49774727],\n",
       "       [ 0.97630409, -0.85054983],\n",
       "       [ 0.12760026, -0.82113176],\n",
       "       [-1.56980739, -1.58600147],\n",
       "       [-0.62680314, -1.05647629],\n",
       "       [-0.24960144, -1.46832921],\n",
       "       [ 0.88200366, -0.67404143],\n",
       "       [ 2.10790919,  1.12046058],\n",
       "       [ 0.41050154, -0.14451625],\n",
       "       [-1.28690612, -1.11531242],\n",
       "       [-1.00400484,  0.76744379],\n",
       "       [-1.00400484,  0.414427  ],\n",
       "       [ 0.22190069,  0.06141021],\n",
       "       [-0.24960144,  2.26776515],\n",
       "       [-1.38120654, -1.46832921],\n",
       "       [ 0.12760026,  0.03199215],\n",
       "       [-0.24960144,  0.06141021],\n",
       "       [-1.19260569, -1.08589435],\n",
       "       [ 0.22190069,  2.12067482],\n",
       "       [-1.47550697, -0.20335238],\n",
       "       [ 0.78770324,  0.76744379],\n",
       "       [ 1.07060452,  2.09125675],\n",
       "       [ 0.97630409,  1.4440593 ],\n",
       "       [ 0.03329984,  1.26755091],\n",
       "       [-1.09830526,  1.41464124],\n",
       "       [ 0.97630409,  2.09125675],\n",
       "       [ 0.03329984, -0.58578723],\n",
       "       [-0.72110356,  1.91474836],\n",
       "       [-1.75840824,  0.17908248],\n",
       "       [ 0.41050154,  0.29675474],\n",
       "       [-0.90970441,  0.5026812 ],\n",
       "       [ 0.88200366,  2.17951095],\n",
       "       [-0.24960144,  0.06141021],\n",
       "       [-0.90970441, -0.32102464],\n",
       "       [ 0.59910239, -0.90938596],\n",
       "       [-0.90970441,  1.56173157],\n",
       "       [ 0.31620111, -1.17414855],\n",
       "       [ 2.10790919,  0.38500894],\n",
       "       [ 2.01360877,  1.76765803],\n",
       "       [-0.06100059,  0.26733667],\n",
       "       [-0.81540399, -0.67404143],\n",
       "       [-1.19260569,  0.29675474],\n",
       "       [-0.06100059, -0.23277045],\n",
       "       [ 0.97630409,  0.12024634],\n",
       "       [-0.24960144, -0.76229563],\n",
       "       [-1.85270867, -0.76229563],\n",
       "       [-0.62680314, -0.11509818],\n",
       "       [ 0.22190069,  0.23791861],\n",
       "       [-0.06100059, -0.49753304],\n",
       "       [-0.24960144, -1.32123888],\n",
       "       [ 2.10790919,  0.94395219],\n",
       "       [ 0.31620111,  0.06141021],\n",
       "       [ 0.41050154,  0.09082828],\n",
       "       [-0.06100059,  0.12024634],\n",
       "       [ 1.16490494, -0.76229563],\n",
       "       [ 0.78770324,  1.38522317],\n",
       "       [-0.72110356,  0.29675474],\n",
       "       [ 0.31620111,  0.06141021],\n",
       "       [-0.24960144, -0.93880402],\n",
       "       [-1.00400484,  0.53209926],\n",
       "       [-1.00400484, -0.37986077],\n",
       "       [-0.24960144,  0.14966441],\n",
       "       [ 0.22190069, -0.37986077],\n",
       "       [-0.06100059,  0.23791861],\n",
       "       [ 0.59910239,  2.03242062],\n",
       "       [-1.00400484, -0.46811497],\n",
       "       [-1.38120654, -1.23298468],\n",
       "       [-0.06100059,  2.17951095],\n",
       "       [ 0.88200366, -0.6152053 ],\n",
       "       [-0.72110356,  1.09104251],\n",
       "       [-0.06100059, -1.08589435],\n",
       "       [-0.24960144, -0.35044271],\n",
       "       [-1.38120654, -0.64462337]])"
      ]
     },
     "execution_count": 44,
     "metadata": {},
     "output_type": "execute_result"
    }
   ],
   "source": [
    "x_train"
   ]
  },
  {
   "cell_type": "code",
   "execution_count": 46,
   "id": "c8844044-9552-4cf0-b719-3fca5f8fd6b1",
   "metadata": {},
   "outputs": [],
   "source": [
    "a = np.arange(start = x_train[:,0].min()-1,stop = x_train[:,0].max(),step = 0.01)\n",
    "b = np.arange(start = x_train[:,1].min()-1,stop = x_train[:,1].max(),step = 0.01)"
   ]
  },
  {
   "cell_type": "code",
   "execution_count": 47,
   "id": "629e8ec2-98ec-429c-96c6-b533971d0909",
   "metadata": {},
   "outputs": [
    {
     "data": {
      "text/plain": [
       "array([-2.85270867e+00, -2.84270867e+00, -2.83270867e+00, -2.82270867e+00,\n",
       "       -2.81270867e+00, -2.80270867e+00, -2.79270867e+00, -2.78270867e+00,\n",
       "       -2.77270867e+00, -2.76270867e+00, -2.75270867e+00, -2.74270867e+00,\n",
       "       -2.73270867e+00, -2.72270867e+00, -2.71270867e+00, -2.70270867e+00,\n",
       "       -2.69270867e+00, -2.68270867e+00, -2.67270867e+00, -2.66270867e+00,\n",
       "       -2.65270867e+00, -2.64270867e+00, -2.63270867e+00, -2.62270867e+00,\n",
       "       -2.61270867e+00, -2.60270867e+00, -2.59270867e+00, -2.58270867e+00,\n",
       "       -2.57270867e+00, -2.56270867e+00, -2.55270867e+00, -2.54270867e+00,\n",
       "       -2.53270867e+00, -2.52270867e+00, -2.51270867e+00, -2.50270867e+00,\n",
       "       -2.49270867e+00, -2.48270867e+00, -2.47270867e+00, -2.46270867e+00,\n",
       "       -2.45270867e+00, -2.44270867e+00, -2.43270867e+00, -2.42270867e+00,\n",
       "       -2.41270867e+00, -2.40270867e+00, -2.39270867e+00, -2.38270867e+00,\n",
       "       -2.37270867e+00, -2.36270867e+00, -2.35270867e+00, -2.34270867e+00,\n",
       "       -2.33270867e+00, -2.32270867e+00, -2.31270867e+00, -2.30270867e+00,\n",
       "       -2.29270867e+00, -2.28270867e+00, -2.27270867e+00, -2.26270867e+00,\n",
       "       -2.25270867e+00, -2.24270867e+00, -2.23270867e+00, -2.22270867e+00,\n",
       "       -2.21270867e+00, -2.20270867e+00, -2.19270867e+00, -2.18270867e+00,\n",
       "       -2.17270867e+00, -2.16270867e+00, -2.15270867e+00, -2.14270867e+00,\n",
       "       -2.13270867e+00, -2.12270867e+00, -2.11270867e+00, -2.10270867e+00,\n",
       "       -2.09270867e+00, -2.08270867e+00, -2.07270867e+00, -2.06270867e+00,\n",
       "       -2.05270867e+00, -2.04270867e+00, -2.03270867e+00, -2.02270867e+00,\n",
       "       -2.01270867e+00, -2.00270867e+00, -1.99270867e+00, -1.98270867e+00,\n",
       "       -1.97270867e+00, -1.96270867e+00, -1.95270867e+00, -1.94270867e+00,\n",
       "       -1.93270867e+00, -1.92270867e+00, -1.91270867e+00, -1.90270867e+00,\n",
       "       -1.89270867e+00, -1.88270867e+00, -1.87270867e+00, -1.86270867e+00,\n",
       "       -1.85270867e+00, -1.84270867e+00, -1.83270867e+00, -1.82270867e+00,\n",
       "       -1.81270867e+00, -1.80270867e+00, -1.79270867e+00, -1.78270867e+00,\n",
       "       -1.77270867e+00, -1.76270867e+00, -1.75270867e+00, -1.74270867e+00,\n",
       "       -1.73270867e+00, -1.72270867e+00, -1.71270867e+00, -1.70270867e+00,\n",
       "       -1.69270867e+00, -1.68270867e+00, -1.67270867e+00, -1.66270867e+00,\n",
       "       -1.65270867e+00, -1.64270867e+00, -1.63270867e+00, -1.62270867e+00,\n",
       "       -1.61270867e+00, -1.60270867e+00, -1.59270867e+00, -1.58270867e+00,\n",
       "       -1.57270867e+00, -1.56270867e+00, -1.55270867e+00, -1.54270867e+00,\n",
       "       -1.53270867e+00, -1.52270867e+00, -1.51270867e+00, -1.50270867e+00,\n",
       "       -1.49270867e+00, -1.48270867e+00, -1.47270867e+00, -1.46270867e+00,\n",
       "       -1.45270867e+00, -1.44270867e+00, -1.43270867e+00, -1.42270867e+00,\n",
       "       -1.41270867e+00, -1.40270867e+00, -1.39270867e+00, -1.38270867e+00,\n",
       "       -1.37270867e+00, -1.36270867e+00, -1.35270867e+00, -1.34270867e+00,\n",
       "       -1.33270867e+00, -1.32270867e+00, -1.31270867e+00, -1.30270867e+00,\n",
       "       -1.29270867e+00, -1.28270867e+00, -1.27270867e+00, -1.26270867e+00,\n",
       "       -1.25270867e+00, -1.24270867e+00, -1.23270867e+00, -1.22270867e+00,\n",
       "       -1.21270867e+00, -1.20270867e+00, -1.19270867e+00, -1.18270867e+00,\n",
       "       -1.17270867e+00, -1.16270867e+00, -1.15270867e+00, -1.14270867e+00,\n",
       "       -1.13270867e+00, -1.12270867e+00, -1.11270867e+00, -1.10270867e+00,\n",
       "       -1.09270867e+00, -1.08270867e+00, -1.07270867e+00, -1.06270867e+00,\n",
       "       -1.05270867e+00, -1.04270867e+00, -1.03270867e+00, -1.02270867e+00,\n",
       "       -1.01270867e+00, -1.00270867e+00, -9.92708667e-01, -9.82708667e-01,\n",
       "       -9.72708667e-01, -9.62708667e-01, -9.52708667e-01, -9.42708667e-01,\n",
       "       -9.32708667e-01, -9.22708667e-01, -9.12708667e-01, -9.02708667e-01,\n",
       "       -8.92708667e-01, -8.82708667e-01, -8.72708667e-01, -8.62708667e-01,\n",
       "       -8.52708667e-01, -8.42708667e-01, -8.32708667e-01, -8.22708667e-01,\n",
       "       -8.12708667e-01, -8.02708667e-01, -7.92708667e-01, -7.82708667e-01,\n",
       "       -7.72708667e-01, -7.62708667e-01, -7.52708667e-01, -7.42708667e-01,\n",
       "       -7.32708667e-01, -7.22708667e-01, -7.12708667e-01, -7.02708667e-01,\n",
       "       -6.92708667e-01, -6.82708667e-01, -6.72708667e-01, -6.62708667e-01,\n",
       "       -6.52708667e-01, -6.42708667e-01, -6.32708667e-01, -6.22708667e-01,\n",
       "       -6.12708667e-01, -6.02708667e-01, -5.92708667e-01, -5.82708667e-01,\n",
       "       -5.72708667e-01, -5.62708667e-01, -5.52708667e-01, -5.42708667e-01,\n",
       "       -5.32708667e-01, -5.22708667e-01, -5.12708667e-01, -5.02708667e-01,\n",
       "       -4.92708667e-01, -4.82708667e-01, -4.72708667e-01, -4.62708667e-01,\n",
       "       -4.52708667e-01, -4.42708667e-01, -4.32708667e-01, -4.22708667e-01,\n",
       "       -4.12708667e-01, -4.02708667e-01, -3.92708667e-01, -3.82708667e-01,\n",
       "       -3.72708667e-01, -3.62708667e-01, -3.52708667e-01, -3.42708667e-01,\n",
       "       -3.32708667e-01, -3.22708667e-01, -3.12708667e-01, -3.02708667e-01,\n",
       "       -2.92708667e-01, -2.82708667e-01, -2.72708667e-01, -2.62708667e-01,\n",
       "       -2.52708667e-01, -2.42708667e-01, -2.32708667e-01, -2.22708667e-01,\n",
       "       -2.12708667e-01, -2.02708667e-01, -1.92708667e-01, -1.82708667e-01,\n",
       "       -1.72708667e-01, -1.62708667e-01, -1.52708667e-01, -1.42708667e-01,\n",
       "       -1.32708667e-01, -1.22708667e-01, -1.12708667e-01, -1.02708667e-01,\n",
       "       -9.27086668e-02, -8.27086668e-02, -7.27086668e-02, -6.27086668e-02,\n",
       "       -5.27086668e-02, -4.27086668e-02, -3.27086668e-02, -2.27086668e-02,\n",
       "       -1.27086668e-02, -2.70866676e-03,  7.29133324e-03,  1.72913332e-02,\n",
       "        2.72913332e-02,  3.72913332e-02,  4.72913332e-02,  5.72913332e-02,\n",
       "        6.72913332e-02,  7.72913332e-02,  8.72913332e-02,  9.72913332e-02,\n",
       "        1.07291333e-01,  1.17291333e-01,  1.27291333e-01,  1.37291333e-01,\n",
       "        1.47291333e-01,  1.57291333e-01,  1.67291333e-01,  1.77291333e-01,\n",
       "        1.87291333e-01,  1.97291333e-01,  2.07291333e-01,  2.17291333e-01,\n",
       "        2.27291333e-01,  2.37291333e-01,  2.47291333e-01,  2.57291333e-01,\n",
       "        2.67291333e-01,  2.77291333e-01,  2.87291333e-01,  2.97291333e-01,\n",
       "        3.07291333e-01,  3.17291333e-01,  3.27291333e-01,  3.37291333e-01,\n",
       "        3.47291333e-01,  3.57291333e-01,  3.67291333e-01,  3.77291333e-01,\n",
       "        3.87291333e-01,  3.97291333e-01,  4.07291333e-01,  4.17291333e-01,\n",
       "        4.27291333e-01,  4.37291333e-01,  4.47291333e-01,  4.57291333e-01,\n",
       "        4.67291333e-01,  4.77291333e-01,  4.87291333e-01,  4.97291333e-01,\n",
       "        5.07291333e-01,  5.17291333e-01,  5.27291333e-01,  5.37291333e-01,\n",
       "        5.47291333e-01,  5.57291333e-01,  5.67291333e-01,  5.77291333e-01,\n",
       "        5.87291333e-01,  5.97291333e-01,  6.07291333e-01,  6.17291333e-01,\n",
       "        6.27291333e-01,  6.37291333e-01,  6.47291333e-01,  6.57291333e-01,\n",
       "        6.67291333e-01,  6.77291333e-01,  6.87291333e-01,  6.97291333e-01,\n",
       "        7.07291333e-01,  7.17291333e-01,  7.27291333e-01,  7.37291333e-01,\n",
       "        7.47291333e-01,  7.57291333e-01,  7.67291333e-01,  7.77291333e-01,\n",
       "        7.87291333e-01,  7.97291333e-01,  8.07291333e-01,  8.17291333e-01,\n",
       "        8.27291333e-01,  8.37291333e-01,  8.47291333e-01,  8.57291333e-01,\n",
       "        8.67291333e-01,  8.77291333e-01,  8.87291333e-01,  8.97291333e-01,\n",
       "        9.07291333e-01,  9.17291333e-01,  9.27291333e-01,  9.37291333e-01,\n",
       "        9.47291333e-01,  9.57291333e-01,  9.67291333e-01,  9.77291333e-01,\n",
       "        9.87291333e-01,  9.97291333e-01,  1.00729133e+00,  1.01729133e+00,\n",
       "        1.02729133e+00,  1.03729133e+00,  1.04729133e+00,  1.05729133e+00,\n",
       "        1.06729133e+00,  1.07729133e+00,  1.08729133e+00,  1.09729133e+00,\n",
       "        1.10729133e+00,  1.11729133e+00,  1.12729133e+00,  1.13729133e+00,\n",
       "        1.14729133e+00,  1.15729133e+00,  1.16729133e+00,  1.17729133e+00,\n",
       "        1.18729133e+00,  1.19729133e+00,  1.20729133e+00,  1.21729133e+00,\n",
       "        1.22729133e+00,  1.23729133e+00,  1.24729133e+00,  1.25729133e+00,\n",
       "        1.26729133e+00,  1.27729133e+00,  1.28729133e+00,  1.29729133e+00,\n",
       "        1.30729133e+00,  1.31729133e+00,  1.32729133e+00,  1.33729133e+00,\n",
       "        1.34729133e+00,  1.35729133e+00,  1.36729133e+00,  1.37729133e+00,\n",
       "        1.38729133e+00,  1.39729133e+00,  1.40729133e+00,  1.41729133e+00,\n",
       "        1.42729133e+00,  1.43729133e+00,  1.44729133e+00,  1.45729133e+00,\n",
       "        1.46729133e+00,  1.47729133e+00,  1.48729133e+00,  1.49729133e+00,\n",
       "        1.50729133e+00,  1.51729133e+00,  1.52729133e+00,  1.53729133e+00,\n",
       "        1.54729133e+00,  1.55729133e+00,  1.56729133e+00,  1.57729133e+00,\n",
       "        1.58729133e+00,  1.59729133e+00,  1.60729133e+00,  1.61729133e+00,\n",
       "        1.62729133e+00,  1.63729133e+00,  1.64729133e+00,  1.65729133e+00,\n",
       "        1.66729133e+00,  1.67729133e+00,  1.68729133e+00,  1.69729133e+00,\n",
       "        1.70729133e+00,  1.71729133e+00,  1.72729133e+00,  1.73729133e+00,\n",
       "        1.74729133e+00,  1.75729133e+00,  1.76729133e+00,  1.77729133e+00,\n",
       "        1.78729133e+00,  1.79729133e+00,  1.80729133e+00,  1.81729133e+00,\n",
       "        1.82729133e+00,  1.83729133e+00,  1.84729133e+00,  1.85729133e+00,\n",
       "        1.86729133e+00,  1.87729133e+00,  1.88729133e+00,  1.89729133e+00,\n",
       "        1.90729133e+00,  1.91729133e+00,  1.92729133e+00,  1.93729133e+00,\n",
       "        1.94729133e+00,  1.95729133e+00,  1.96729133e+00,  1.97729133e+00,\n",
       "        1.98729133e+00,  1.99729133e+00,  2.00729133e+00,  2.01729133e+00,\n",
       "        2.02729133e+00,  2.03729133e+00,  2.04729133e+00,  2.05729133e+00,\n",
       "        2.06729133e+00,  2.07729133e+00,  2.08729133e+00,  2.09729133e+00,\n",
       "        2.10729133e+00])"
      ]
     },
     "execution_count": 47,
     "metadata": {},
     "output_type": "execute_result"
    }
   ],
   "source": [
    "a"
   ]
  },
  {
   "cell_type": "code",
   "execution_count": 48,
   "id": "e68506c1-27c9-4322-a271-a5f5d3a80277",
   "metadata": {},
   "outputs": [
    {
     "data": {
      "text/plain": [
       "array([-2.61541954, -2.60541954, -2.59541954, -2.58541954, -2.57541954,\n",
       "       -2.56541954, -2.55541954, -2.54541954, -2.53541954, -2.52541954,\n",
       "       -2.51541954, -2.50541954, -2.49541954, -2.48541954, -2.47541954,\n",
       "       -2.46541954, -2.45541954, -2.44541954, -2.43541954, -2.42541954,\n",
       "       -2.41541954, -2.40541954, -2.39541954, -2.38541954, -2.37541954,\n",
       "       -2.36541954, -2.35541954, -2.34541954, -2.33541954, -2.32541954,\n",
       "       -2.31541954, -2.30541954, -2.29541954, -2.28541954, -2.27541954,\n",
       "       -2.26541954, -2.25541954, -2.24541954, -2.23541954, -2.22541954,\n",
       "       -2.21541954, -2.20541954, -2.19541954, -2.18541954, -2.17541954,\n",
       "       -2.16541954, -2.15541954, -2.14541954, -2.13541954, -2.12541954,\n",
       "       -2.11541954, -2.10541954, -2.09541954, -2.08541954, -2.07541954,\n",
       "       -2.06541954, -2.05541954, -2.04541954, -2.03541954, -2.02541954,\n",
       "       -2.01541954, -2.00541954, -1.99541954, -1.98541954, -1.97541954,\n",
       "       -1.96541954, -1.95541954, -1.94541954, -1.93541954, -1.92541954,\n",
       "       -1.91541954, -1.90541954, -1.89541954, -1.88541954, -1.87541954,\n",
       "       -1.86541954, -1.85541954, -1.84541954, -1.83541954, -1.82541954,\n",
       "       -1.81541954, -1.80541954, -1.79541954, -1.78541954, -1.77541954,\n",
       "       -1.76541954, -1.75541954, -1.74541954, -1.73541954, -1.72541954,\n",
       "       -1.71541954, -1.70541954, -1.69541954, -1.68541954, -1.67541954,\n",
       "       -1.66541954, -1.65541954, -1.64541954, -1.63541954, -1.62541954,\n",
       "       -1.61541954, -1.60541954, -1.59541954, -1.58541954, -1.57541954,\n",
       "       -1.56541954, -1.55541954, -1.54541954, -1.53541954, -1.52541954,\n",
       "       -1.51541954, -1.50541954, -1.49541954, -1.48541954, -1.47541954,\n",
       "       -1.46541954, -1.45541954, -1.44541954, -1.43541954, -1.42541954,\n",
       "       -1.41541954, -1.40541954, -1.39541954, -1.38541954, -1.37541954,\n",
       "       -1.36541954, -1.35541954, -1.34541954, -1.33541954, -1.32541954,\n",
       "       -1.31541954, -1.30541954, -1.29541954, -1.28541954, -1.27541954,\n",
       "       -1.26541954, -1.25541954, -1.24541954, -1.23541954, -1.22541954,\n",
       "       -1.21541954, -1.20541954, -1.19541954, -1.18541954, -1.17541954,\n",
       "       -1.16541954, -1.15541954, -1.14541954, -1.13541954, -1.12541954,\n",
       "       -1.11541954, -1.10541954, -1.09541954, -1.08541954, -1.07541954,\n",
       "       -1.06541954, -1.05541954, -1.04541954, -1.03541954, -1.02541954,\n",
       "       -1.01541954, -1.00541954, -0.99541954, -0.98541954, -0.97541954,\n",
       "       -0.96541954, -0.95541954, -0.94541954, -0.93541954, -0.92541954,\n",
       "       -0.91541954, -0.90541954, -0.89541954, -0.88541954, -0.87541954,\n",
       "       -0.86541954, -0.85541954, -0.84541954, -0.83541954, -0.82541954,\n",
       "       -0.81541954, -0.80541954, -0.79541954, -0.78541954, -0.77541954,\n",
       "       -0.76541954, -0.75541954, -0.74541954, -0.73541954, -0.72541954,\n",
       "       -0.71541954, -0.70541954, -0.69541954, -0.68541954, -0.67541954,\n",
       "       -0.66541954, -0.65541954, -0.64541954, -0.63541954, -0.62541954,\n",
       "       -0.61541954, -0.60541954, -0.59541954, -0.58541954, -0.57541954,\n",
       "       -0.56541954, -0.55541954, -0.54541954, -0.53541954, -0.52541954,\n",
       "       -0.51541954, -0.50541954, -0.49541954, -0.48541954, -0.47541954,\n",
       "       -0.46541954, -0.45541954, -0.44541954, -0.43541954, -0.42541954,\n",
       "       -0.41541954, -0.40541954, -0.39541954, -0.38541954, -0.37541954,\n",
       "       -0.36541954, -0.35541954, -0.34541954, -0.33541954, -0.32541954,\n",
       "       -0.31541954, -0.30541954, -0.29541954, -0.28541954, -0.27541954,\n",
       "       -0.26541954, -0.25541954, -0.24541954, -0.23541954, -0.22541954,\n",
       "       -0.21541954, -0.20541954, -0.19541954, -0.18541954, -0.17541954,\n",
       "       -0.16541954, -0.15541954, -0.14541954, -0.13541954, -0.12541954,\n",
       "       -0.11541954, -0.10541954, -0.09541954, -0.08541954, -0.07541954,\n",
       "       -0.06541954, -0.05541954, -0.04541954, -0.03541954, -0.02541954,\n",
       "       -0.01541954, -0.00541954,  0.00458046,  0.01458046,  0.02458046,\n",
       "        0.03458046,  0.04458046,  0.05458046,  0.06458046,  0.07458046,\n",
       "        0.08458046,  0.09458046,  0.10458046,  0.11458046,  0.12458046,\n",
       "        0.13458046,  0.14458046,  0.15458046,  0.16458046,  0.17458046,\n",
       "        0.18458046,  0.19458046,  0.20458046,  0.21458046,  0.22458046,\n",
       "        0.23458046,  0.24458046,  0.25458046,  0.26458046,  0.27458046,\n",
       "        0.28458046,  0.29458046,  0.30458046,  0.31458046,  0.32458046,\n",
       "        0.33458046,  0.34458046,  0.35458046,  0.36458046,  0.37458046,\n",
       "        0.38458046,  0.39458046,  0.40458046,  0.41458046,  0.42458046,\n",
       "        0.43458046,  0.44458046,  0.45458046,  0.46458046,  0.47458046,\n",
       "        0.48458046,  0.49458046,  0.50458046,  0.51458046,  0.52458046,\n",
       "        0.53458046,  0.54458046,  0.55458046,  0.56458046,  0.57458046,\n",
       "        0.58458046,  0.59458046,  0.60458046,  0.61458046,  0.62458046,\n",
       "        0.63458046,  0.64458046,  0.65458046,  0.66458046,  0.67458046,\n",
       "        0.68458046,  0.69458046,  0.70458046,  0.71458046,  0.72458046,\n",
       "        0.73458046,  0.74458046,  0.75458046,  0.76458046,  0.77458046,\n",
       "        0.78458046,  0.79458046,  0.80458046,  0.81458046,  0.82458046,\n",
       "        0.83458046,  0.84458046,  0.85458046,  0.86458046,  0.87458046,\n",
       "        0.88458046,  0.89458046,  0.90458046,  0.91458046,  0.92458046,\n",
       "        0.93458046,  0.94458046,  0.95458046,  0.96458046,  0.97458046,\n",
       "        0.98458046,  0.99458046,  1.00458046,  1.01458046,  1.02458046,\n",
       "        1.03458046,  1.04458046,  1.05458046,  1.06458046,  1.07458046,\n",
       "        1.08458046,  1.09458046,  1.10458046,  1.11458046,  1.12458046,\n",
       "        1.13458046,  1.14458046,  1.15458046,  1.16458046,  1.17458046,\n",
       "        1.18458046,  1.19458046,  1.20458046,  1.21458046,  1.22458046,\n",
       "        1.23458046,  1.24458046,  1.25458046,  1.26458046,  1.27458046,\n",
       "        1.28458046,  1.29458046,  1.30458046,  1.31458046,  1.32458046,\n",
       "        1.33458046,  1.34458046,  1.35458046,  1.36458046,  1.37458046,\n",
       "        1.38458046,  1.39458046,  1.40458046,  1.41458046,  1.42458046,\n",
       "        1.43458046,  1.44458046,  1.45458046,  1.46458046,  1.47458046,\n",
       "        1.48458046,  1.49458046,  1.50458046,  1.51458046,  1.52458046,\n",
       "        1.53458046,  1.54458046,  1.55458046,  1.56458046,  1.57458046,\n",
       "        1.58458046,  1.59458046,  1.60458046,  1.61458046,  1.62458046,\n",
       "        1.63458046,  1.64458046,  1.65458046,  1.66458046,  1.67458046,\n",
       "        1.68458046,  1.69458046,  1.70458046,  1.71458046,  1.72458046,\n",
       "        1.73458046,  1.74458046,  1.75458046,  1.76458046,  1.77458046,\n",
       "        1.78458046,  1.79458046,  1.80458046,  1.81458046,  1.82458046,\n",
       "        1.83458046,  1.84458046,  1.85458046,  1.86458046,  1.87458046,\n",
       "        1.88458046,  1.89458046,  1.90458046,  1.91458046,  1.92458046,\n",
       "        1.93458046,  1.94458046,  1.95458046,  1.96458046,  1.97458046,\n",
       "        1.98458046,  1.99458046,  2.00458046,  2.01458046,  2.02458046,\n",
       "        2.03458046,  2.04458046,  2.05458046,  2.06458046,  2.07458046,\n",
       "        2.08458046,  2.09458046,  2.10458046,  2.11458046,  2.12458046,\n",
       "        2.13458046,  2.14458046,  2.15458046,  2.16458046,  2.17458046,\n",
       "        2.18458046,  2.19458046,  2.20458046,  2.21458046,  2.22458046,\n",
       "        2.23458046,  2.24458046,  2.25458046,  2.26458046,  2.27458046,\n",
       "        2.28458046,  2.29458046,  2.30458046,  2.31458046,  2.32458046,\n",
       "        2.33458046,  2.34458046,  2.35458046])"
      ]
     },
     "execution_count": 48,
     "metadata": {},
     "output_type": "execute_result"
    }
   ],
   "source": [
    "b"
   ]
  },
  {
   "cell_type": "code",
   "execution_count": 49,
   "id": "694e6e4d-a29b-4c48-abba-abbb0edab60f",
   "metadata": {},
   "outputs": [],
   "source": [
    "xx,xy = np.meshgrid(a,b)"
   ]
  },
  {
   "cell_type": "code",
   "execution_count": 50,
   "id": "2677be92-1012-43e8-8579-f0370b95db44",
   "metadata": {},
   "outputs": [
    {
     "data": {
      "text/plain": [
       "(498, 497)"
      ]
     },
     "execution_count": 50,
     "metadata": {},
     "output_type": "execute_result"
    }
   ],
   "source": [
    "xx.shape"
   ]
  },
  {
   "cell_type": "code",
   "execution_count": 51,
   "id": "7c9b7045-b73c-407c-a488-961d9422ff2f",
   "metadata": {},
   "outputs": [
    {
     "data": {
      "text/plain": [
       "(498, 497)"
      ]
     },
     "execution_count": 51,
     "metadata": {},
     "output_type": "execute_result"
    }
   ],
   "source": [
    "xy.shape"
   ]
  },
  {
   "cell_type": "code",
   "execution_count": 52,
   "id": "dcacb092-ce39-46a0-81cf-ba556f901d1c",
   "metadata": {},
   "outputs": [],
   "source": [
    "input_array = np.array([xx.ravel(),xy.ravel()]).T"
   ]
  },
  {
   "cell_type": "code",
   "execution_count": 54,
   "id": "20f62f68-e1be-47b9-807a-03d3c2703630",
   "metadata": {},
   "outputs": [],
   "source": [
    "labels = knn.predict(input_array)"
   ]
  },
  {
   "cell_type": "code",
   "execution_count": 55,
   "id": "139baa48-9d3b-4bb3-970b-9ba982029924",
   "metadata": {},
   "outputs": [
    {
     "data": {
      "text/plain": [
       "array([0, 0, 0, ..., 1, 1, 1], dtype=int64)"
      ]
     },
     "execution_count": 55,
     "metadata": {},
     "output_type": "execute_result"
    }
   ],
   "source": [
    "labels"
   ]
  },
  {
   "cell_type": "code",
   "execution_count": 60,
   "id": "6d69d145-f23b-41b8-b5e1-61f105cdfc8b",
   "metadata": {},
   "outputs": [
    {
     "data": {
      "text/plain": [
       "<matplotlib.collections.PathCollection at 0x1bdaa3b9130>"
      ]
     },
     "execution_count": 60,
     "metadata": {},
     "output_type": "execute_result"
    },
    {
     "data": {
      "image/png": "[encoded data removed]",
      "text/plain": [
       "<Figure size 640x480 with 1 Axes>"
      ]
     },
     "metadata": {},
     "output_type": "display_data"
    }
   ],
   "source": [
    "plt.contourf(xx,xy,labels.reshape(xx.shape),alpha = 0.05)\n",
    "plt.scatter(x_train[:,0],x_train[:,1],c = y_train)"
   ]
  },
  {
   "cell_type": "code",
   "execution_count": null,
   "id": "6960a95e-14da-4d5b-a848-85c686b00c7c",
   "metadata": {},
   "outputs": [],
   "source": []
  }
 ],
 "metadata": {
  "kernelspec": {
   "display_name": "Python 3 (ipykernel)",
   "language": "python",
   "name": "python3"
  },
  "language_info": {
   "codemirror_mode": {
    "name": "ipython",
    "version": 3
   },
   "file_extension": ".py",
   "mimetype": "text/x-python",
   "name": "python",
   "nbconvert_exporter": "python",
   "pygments_lexer": "ipython3",
   "version": "3.12.3"
  },
  "widgets": {
   "application/vnd.jupyter.widget-state+json": {
    "state": {},
    "version_major": 2,
    "version_minor": 0
   }
  }
 },
 "nbformat": 4,
 "nbformat_minor": 5
}
