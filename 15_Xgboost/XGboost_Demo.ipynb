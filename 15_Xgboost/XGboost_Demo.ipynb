{
 "cells": [
  {
   "cell_type": "code",
   "execution_count": 1,
   "id": "b90c2f0c-6107-4ba0-ad54-627fedd5a90c",
   "metadata": {},
   "outputs": [],
   "source": [
    "import xgboost as xgb"
   ]
  },
  {
   "cell_type": "code",
   "execution_count": 2,
   "id": "ad00b7c0-7e7d-40a6-ba60-fd98e540866d",
   "metadata": {},
   "outputs": [],
   "source": [
    "from sklearn.datasets import make_classification\n",
    "from sklearn.model_selection import train_test_split\n",
    "from sklearn.metrics import accuracy_score\n",
    "from sklearn.ensemble import GradientBoostingClassifier\n",
    "import xgboost as xgb\n",
    "import time\n",
    "import warnings\n",
    "warnings.filterwarnings('ignore')\n",
    "# creating a synthetic dataset\n",
    "x,y = make_classification(n_samples=10000,n_features = 200,random_state = 42)"
   ]
  },
  {
   "cell_type": "code",
   "execution_count": 3,
   "id": "5efda68e-eacc-4da7-a0c8-afa645f99410",
   "metadata": {},
   "outputs": [],
   "source": [
    "# splitting the dataset into training and testing sets\n",
    "x_train,x_test,y_train,y_test = train_test_split(x,y,test_size = 0.2,random_state =42)"
   ]
  },
  {
   "cell_type": "code",
   "execution_count": 4,
   "id": "c1962f37-e4d6-487c-b07a-c958da214eed",
   "metadata": {},
   "outputs": [],
   "source": [
    "# Initializing the models\n",
    "gb_model = GradientBoostingClassifier(random_state = 42)\n",
    "xgb_model  = xgb.XGBClassifier(random_state =42,use_label_encoder = False,eval_metric = 'logloss')"
   ]
  },
  {
   "cell_type": "code",
   "execution_count": 5,
   "id": "1a298dfe-dfe3-4a4a-93d5-ee4f87681df2",
   "metadata": {},
   "outputs": [
    {
     "data": {
      "text/plain": [
       "(123.37211179733276, 0.9325, 6.155809164047241, 0.935)"
      ]
     },
     "execution_count": 5,
     "metadata": {},
     "output_type": "execute_result"
    }
   ],
   "source": [
    "# training and evaluating the scikit learn gradient descent model\n",
    "start_gb = time.time()\n",
    "gb_model.fit(x_train,y_train)\n",
    "end_gb = time.time()\n",
    "gb_time = end_gb - start_gb\n",
    "\n",
    "gb_predictions = gb_model.predict(x_test)\n",
    "gb_accuracy = accuracy_score(y_test,gb_predictions)\n",
    "\n",
    "# training and evaluting the xgboost model\n",
    "start_xgb = time.time()\n",
    "xgb_model.fit(x_train,y_train)\n",
    "end_xgb = time.time()\n",
    "xgb_time = end_xgb - start_xgb\n",
    "\n",
    "xgb_predictions = xgb_model.predict(x_test)\n",
    "xgb_accuracy = accuracy_score(y_test,xgb_predictions)\n",
    "\n",
    "gb_time,gb_accuracy,xgb_time,xgb_accuracy"
   ]
  }
 ],
 "metadata": {
  "kernelspec": {
   "display_name": "Python 3 (ipykernel)",
   "language": "python",
   "name": "python3"
  },
  "language_info": {
   "codemirror_mode": {
    "name": "ipython",
    "version": 3
   },
   "file_extension": ".py",
   "mimetype": "text/x-python",
   "name": "python",
   "nbconvert_exporter": "python",
   "pygments_lexer": "ipython3",
   "version": "3.12.3"
  },
  "widgets": {
   "application/vnd.jupyter.widget-state+json": {
    "state": {},
    "version_major": 2,
    "version_minor": 0
   }
  }
 },
 "nbformat": 4,
 "nbformat_minor": 5
}
