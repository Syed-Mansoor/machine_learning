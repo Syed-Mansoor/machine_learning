{
 "cells": [
  {
   "cell_type": "code",
   "execution_count": 2,
   "id": "7090bb7b-a016-48c3-8e14-e55aaf7f22f7",
   "metadata": {},
   "outputs": [
    {
     "name": "stderr",
     "output_type": "stream",
     "text": [
      "C:\\Users\\HP\\AppData\\Local\\Programs\\Python\\Python312\\Lib\\site-packages\\xgboost\\core.py:158: UserWarning: [20:54:49] WARNING: C:\\buildkite-agent\\builds\\buildkite-windows-cpu-autoscaling-group-i-06abd128ca6c1688d-1\\xgboost\\xgboost-ci-windows\\src\\learner.cc:740: \n",
      "Parameters: { \"use_label_encoder\" } are not used.\n",
      "\n",
      "  warnings.warn(smsg, UserWarning)\n"
     ]
    },
    {
     "data": {
      "text/plain": [
       "0.5"
      ]
     },
     "execution_count": 2,
     "metadata": {},
     "output_type": "execute_result"
    }
   ],
   "source": [
    "import numpy as np\n",
    "import xgboost as xgb\n",
    "from sklearn.model_selection import train_test_split\n",
    "from sklearn.metrics import accuracy_score\n",
    "\n",
    "# creating a sample dataset with missing values\n",
    "x = np.array([[1,2],\n",
    "             [3,np.nan],\n",
    "             [7,8],\n",
    "             [5,6],\n",
    "             [3,4],[8,9]])\n",
    "y = np.array([0,1,0,1,0,1])\n",
    "\n",
    "# splitting the dataset into a training set and a test set\n",
    "x_train,x_test,y_train,y_test = train_test_split(x,y,test_size =0.2,random_state = 42)\n",
    "\n",
    "# initializing an xgboost classifier object\n",
    "model = xgb.XGBRFClassifier(use_label_encoder=  False,eval_metric = 'logloss')\n",
    "\n",
    "# traing the xgboost model\n",
    "model.fit(x_train,y_train)\n",
    "\n",
    "# making predictions on the test set\n",
    "y_pred = model.predict(x_test)\n",
    "\n",
    "# calculating the accuracy of the model\n",
    "accuracy = accuracy_score(y_test,y_pred)\n",
    "\n",
    "accuracy"
   ]
  },
  {
   "cell_type": "code",
   "execution_count": null,
   "id": "90c56acc-7c24-48df-980c-f221c627e705",
   "metadata": {},
   "outputs": [],
   "source": []
  }
 ],
 "metadata": {
  "kernelspec": {
   "display_name": "Python 3 (ipykernel)",
   "language": "python",
   "name": "python3"
  },
  "language_info": {
   "codemirror_mode": {
    "name": "ipython",
    "version": 3
   },
   "file_extension": ".py",
   "mimetype": "text/x-python",
   "name": "python",
   "nbconvert_exporter": "python",
   "pygments_lexer": "ipython3",
   "version": "3.12.3"
  },
  "widgets": {
   "application/vnd.jupyter.widget-state+json": {
    "state": {},
    "version_major": 2,
    "version_minor": 0
   }
  }
 },
 "nbformat": 4,
 "nbformat_minor": 5
}
