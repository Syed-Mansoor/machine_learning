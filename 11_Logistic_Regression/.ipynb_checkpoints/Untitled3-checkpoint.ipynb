{
 "cells": [
  {
   "cell_type": "code",
   "execution_count": 1,
   "id": "a84dd379-6436-45b2-b0c6-1c1ededcef72",
   "metadata": {},
   "outputs": [],
   "source": [
    "import math\n",
    "def normal_distribution_pdf(x,mean,std):\n",
    "    # calculate the normal distribution pdf\n",
    "    exponent = -((x - mean) ** 2) / (2 * (std ** 2))\n",
    "    return (1 / (std * math.sqrt(2 * math.pi))) * math.exp(exponent)"
   ]
  },
  {
   "cell_type": "code",
   "execution_count": 2,
   "id": "c8ed30b5-a996-413e-a505-2890cfbe7bfe",
   "metadata": {},
   "outputs": [
    {
     "data": {
      "text/plain": [
       "1.486719514734298e-07"
      ]
     },
     "execution_count": 2,
     "metadata": {},
     "output_type": "execute_result"
    }
   ],
   "source": [
    "normal_distribution_pdf(100,150,10)"
   ]
  },
  {
   "cell_type": "code",
   "execution_count": 3,
   "id": "accb4caf-c924-4941-857a-6f4b765282e5",
   "metadata": {},
   "outputs": [
    {
     "data": {
      "text/plain": [
       "0.00044318484119380076"
      ]
     },
     "execution_count": 3,
     "metadata": {},
     "output_type": "execute_result"
    }
   ],
   "source": [
    "normal_distribution_pdf(180,150,10)"
   ]
  },
  {
   "cell_type": "code",
   "execution_count": null,
   "id": "f7455fad-0cfc-43fd-b04c-fdc51b233b44",
   "metadata": {},
   "outputs": [],
   "source": []
  }
 ],
 "metadata": {
  "kernelspec": {
   "display_name": "Python 3 (ipykernel)",
   "language": "python",
   "name": "python3"
  },
  "language_info": {
   "codemirror_mode": {
    "name": "ipython",
    "version": 3
   },
   "file_extension": ".py",
   "mimetype": "text/x-python",
   "name": "python",
   "nbconvert_exporter": "python",
   "pygments_lexer": "ipython3",
   "version": "3.12.3"
  },
  "widgets": {
   "application/vnd.jupyter.widget-state+json": {
    "state": {},
    "version_major": 2,
    "version_minor": 0
   }
  }
 },
 "nbformat": 4,
 "nbformat_minor": 5
}
