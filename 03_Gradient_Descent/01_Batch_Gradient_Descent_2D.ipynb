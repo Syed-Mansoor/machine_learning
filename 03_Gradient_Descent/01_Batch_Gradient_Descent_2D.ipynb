{
  "nbformat": 4,
  "nbformat_minor": 0,
  "metadata": {
    "colab": {
      "provenance": []
    },
    "kernelspec": {
      "name": "python3",
      "display_name": "Python 3"
    },
    "language_info": {
      "name": "python"
    }
  },
  "cells": [
    {
      "cell_type": "code",
      "execution_count": 53,
      "metadata": {
        "id": "xv19UeY5Lc4D"
      },
      "outputs": [],
      "source": [
        "from sklearn.datasets import make_regression\n",
        "import matplotlib.pyplot as plt\n",
        "import numpy as np\n",
        "from sklearn.model_selection import cross_val_score"
      ]
    },
    {
      "cell_type": "code",
      "source": [
        "x,y = make_regression(n_samples = 100,n_features=1,n_informative=1,n_targets = 1,noise = 20)"
      ],
      "metadata": {
        "id": "rzgSH5bXLpo2"
      },
      "execution_count": 54,
      "outputs": []
    },
    {
      "cell_type": "code",
      "source": [
        "plt.scatter(x,y)"
      ],
      "metadata": {
        "colab": {
          "base_uri": "https://localhost:8080/",
          "height": 448
        },
        "id": "VVZ5yx3iLzGZ",
        "outputId": "a2eec299-6dae-4671-896d-9675df63d930"
      },
      "execution_count": 55,
      "outputs": [
        {
          "output_type": "execute_result",
          "data": {
            "text/plain": [
              "<matplotlib.collections.PathCollection at 0x78cf6fe7c6d0>"
            ]
          },
          "metadata": {},
          "execution_count": 55
        },
        {
          "output_type": "display_data",
          "data": {
            "text/plain": [
              "<Figure size 640x480 with 1 Axes>"
            ],
            "image/png": "[encoded data removed]"
          },
          "metadata": {}
        }
      ]
    },
    {
      "cell_type": "code",
      "source": [
        "from sklearn.model_selection import train_test_split\n",
        "x_train,x_test,y_train,y_test = train_test_split(x,y,test_size = 0.2,random_state = 2)"
      ],
      "metadata": {
        "id": "7d2l5OuFSg8B"
      },
      "execution_count": 56,
      "outputs": []
    },
    {
      "cell_type": "code",
      "source": [
        "from sklearn.linear_model import LinearRegression\n",
        "lr = LinearRegression()\n",
        "lr.fit(x_train,y_train)\n",
        "print(lr.coef_)\n",
        "print(lr.intercept_)"
      ],
      "metadata": {
        "colab": {
          "base_uri": "https://localhost:8080/"
        },
        "id": "0xosPi7mL0OQ",
        "outputId": "c4ba8e26-7499-49c1-fa09-fec110f0f365"
      },
      "execution_count": 57,
      "outputs": [
        {
          "output_type": "stream",
          "name": "stdout",
          "text": [
            "[30.61223478]\n",
            "-1.4183217059215627\n"
          ]
        }
      ]
    },
    {
      "cell_type": "code",
      "source": [
        "y_pred = lr.predict(x_test)\n",
        "from sklearn.metrics import r2_score\n",
        "r2_score(y_test,y_pred)"
      ],
      "metadata": {
        "colab": {
          "base_uri": "https://localhost:8080/"
        },
        "id": "ZLLNnU0VSyTc",
        "outputId": "87152e26-6f86-44e5-fd5d-ea93cf404099"
      },
      "execution_count": 58,
      "outputs": [
        {
          "output_type": "execute_result",
          "data": {
            "text/plain": [
              "0.6801528302924477"
            ]
          },
          "metadata": {},
          "execution_count": 58
        }
      ]
    },
    {
      "cell_type": "code",
      "source": [
        "# np.mean(cross_val_score(lr,x,y,scoring = 'r2',cv = 10))"
      ],
      "metadata": {
        "id": "Fx1jMgwORnPT"
      },
      "execution_count": 59,
      "outputs": []
    },
    {
      "cell_type": "code",
      "source": [
        "m = 51.19"
      ],
      "metadata": {
        "id": "aBbxiS-LMC5B"
      },
      "execution_count": 60,
      "outputs": []
    },
    {
      "cell_type": "code",
      "source": [
        "class Gdregressor:\n",
        "    def __init__(self,learning_rate,epochs):\n",
        "        self.m = 100\n",
        "        self.b = -120\n",
        "        self.lr = learning_rate\n",
        "        self.epochs = epochs\n",
        "    def fit(self,x_train,y_train):\n",
        "        # calculate the b using GD\n",
        "        for i in range(self.epochs):\n",
        "            loss_slope_b = -2 * np.sum(y -self.m * x.ravel() - self.b)\n",
        "            loss_slope_m = -2 * np.sum((y -self.m * x.ravel() - self.b) * x.ravel())\n",
        "            self.b = self. b - (self.lr * loss_slope_b)\n",
        "            self.m = self.m -(self.lr * loss_slope_m)\n",
        "    def predict(self,x_test):\n",
        "        return self.m * x_test + self.b"
      ],
      "metadata": {
        "id": "g96CBJ9sMFiJ"
      },
      "execution_count": 83,
      "outputs": []
    },
    {
      "cell_type": "code",
      "source": [
        "gd = Gdregressor(0.001,50)"
      ],
      "metadata": {
        "id": "jSOvwqqBM8_l"
      },
      "execution_count": 84,
      "outputs": []
    },
    {
      "cell_type": "code",
      "source": [
        "gd.fit(x_train,y_train)"
      ],
      "metadata": {
        "id": "gevBkXfjNASR"
      },
      "execution_count": 85,
      "outputs": []
    },
    {
      "cell_type": "code",
      "source": [
        "gd.predict(x_test)"
      ],
      "metadata": {
        "colab": {
          "base_uri": "https://localhost:8080/"
        },
        "id": "SOpgKM3LSJjW",
        "outputId": "620d8761-d292-4e70-fe77-be34a89e3058"
      },
      "execution_count": 86,
      "outputs": [
        {
          "output_type": "execute_result",
          "data": {
            "text/plain": [
              "array([[-28.70686542],\n",
              "       [-41.09296669],\n",
              "       [ 15.55212577],\n",
              "       [ 19.75242617],\n",
              "       [ 41.19424173],\n",
              "       [ 12.429759  ],\n",
              "       [ 19.13515768],\n",
              "       [  8.74605751],\n",
              "       [-53.85991909],\n",
              "       [ 12.98427075],\n",
              "       [ -1.61369183],\n",
              "       [ -4.98264336],\n",
              "       [ -8.40314914],\n",
              "       [-11.96387115],\n",
              "       [ 25.74627337],\n",
              "       [  8.54641386],\n",
              "       [ 26.72875875],\n",
              "       [ 38.00329989],\n",
              "       [ 46.86743238],\n",
              "       [ 42.15478186]])"
            ]
          },
          "metadata": {},
          "execution_count": 86
        }
      ]
    },
    {
      "cell_type": "code",
      "source": [
        "y_pred = gd.predict(x_test)\n",
        "from sklearn.metrics import r2_score\n",
        "r2_score(y_test,y_pred)"
      ],
      "metadata": {
        "colab": {
          "base_uri": "https://localhost:8080/"
        },
        "id": "yoGmTMSmSeXR",
        "outputId": "7a2eafdd-435b-4c38-df88-b37dd98cc789"
      },
      "execution_count": 87,
      "outputs": [
        {
          "output_type": "execute_result",
          "data": {
            "text/plain": [
              "0.6971019869288531"
            ]
          },
          "metadata": {},
          "execution_count": 87
        }
      ]
    },
    {
      "cell_type": "code",
      "source": [],
      "metadata": {
        "id": "AwvTXUh_TLlj"
      },
      "execution_count": 65,
      "outputs": []
    }
  ]
}