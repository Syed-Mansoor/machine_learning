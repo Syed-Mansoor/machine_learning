{
 "cells": [
  {
   "cell_type": "markdown",
   "id": "2c4db2e7-3172-4265-a56b-0a3e8f52bf8b",
   "metadata": {},
   "source": [
    "# Gradient Boosting Algorithm - Part 2. Classification\n",
    "### Algorithm explained with an example, math, and code"
   ]
  },
  {
   "cell_type": "code",
   "execution_count": 1,
   "id": "9289435c-871a-419d-8c5e-95b97ccd4673",
   "metadata": {},
   "outputs": [],
   "source": [
    "import numpy as np\n",
    "import pandas as pd\n",
    "import matplotlib.pyplot as plt\n",
    "import matplotlib as mpl\n",
    "import seaborn as sns\n",
    "import scipy.stats as stats\n",
    "from sklearn.tree import DecisionTreeRegressor\n",
    "\n",
    "import plotly.graph_objects as go\n",
    "import plotly.express as px\n",
    "from plotly.subplots import make_subplots\n",
    "\n",
    "sns.set()"
   ]
  },
  {
   "cell_type": "code",
   "execution_count": 2,
   "id": "8ab75849-2164-4f3f-8991-a94fe1adef0b",
   "metadata": {},
   "outputs": [
    {
     "ename": "SyntaxError",
     "evalue": "invalid character '₁' (U+2081) (1149367804.py, line 4)",
     "output_type": "error",
     "traceback": [
      "\u001b[1;36m  Cell \u001b[1;32mIn[2], line 4\u001b[1;36m\u001b[0m\n\u001b[1;33m    The picture below shows the example data. It has the binary class $y$ (0 and 1) and two features ($x₁$ and $x₂$).\u001b[0m\n\u001b[1;37m                                                                                                        ^\u001b[0m\n\u001b[1;31mSyntaxError\u001b[0m\u001b[1;31m:\u001b[0m invalid character '₁' (U+2081)\n"
     ]
    }
   ],
   "source": [
    "# Algorithm with an Example\n",
    "Gradient boosting is one of the variants of ensemble methods where you create multiple weak models (they are often decision trees) and combine them to get better performance as a whole. In this section, we are building a gradient boosting classification model using very simple example data to intuitively understand how it works.\n",
    "\n",
    "The picture below shows the example data. It has the binary class $y$ (0 and 1) and two features ($x₁$ and $x₂$)."
   ]
  },
  {
   "cell_type": "code",
   "execution_count": null,
   "id": "beed089f-75f9-4a41-a5dd-b4d417354e67",
   "metadata": {},
   "outputs": [],
   "source": []
  }
 ],
 "metadata": {
  "kernelspec": {
   "display_name": "Python 3 (ipykernel)",
   "language": "python",
   "name": "python3"
  },
  "language_info": {
   "codemirror_mode": {
    "name": "ipython",
    "version": 3
   },
   "file_extension": ".py",
   "mimetype": "text/x-python",
   "name": "python",
   "nbconvert_exporter": "python",
   "pygments_lexer": "ipython3",
   "version": "3.12.3"
  },
  "widgets": {
   "application/vnd.jupyter.widget-state+json": {
    "state": {},
    "version_major": 2,
    "version_minor": 0
   }
  }
 },
 "nbformat": 4,
 "nbformat_minor": 5
}
