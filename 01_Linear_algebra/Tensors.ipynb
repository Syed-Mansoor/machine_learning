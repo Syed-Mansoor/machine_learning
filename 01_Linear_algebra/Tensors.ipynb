{
  "nbformat": 4,
  "nbformat_minor": 0,
  "metadata": {
    "colab": {
      "provenance": []
    },
    "kernelspec": {
      "name": "python3",
      "display_name": "Python 3"
    },
    "language_info": {
      "name": "python"
    }
  },
  "cells": [
    {
      "cell_type": "code",
      "execution_count": 9,
      "metadata": {
        "colab": {
          "base_uri": "https://localhost:8080/"
        },
        "id": "9izTN4XfAwv8",
        "outputId": "d2bbb881-b1a7-40b3-f53f-9cfb9f74a288"
      },
      "outputs": [
        {
          "output_type": "execute_result",
          "data": {
            "text/plain": [
              "array([[1, 1],\n",
              "       [4, 3]])"
            ]
          },
          "metadata": {},
          "execution_count": 9
        }
      ],
      "source": [
        "import numpy as np\n",
        "a = np.array([[1,1],[4,3]])\n",
        "a"
      ]
    },
    {
      "cell_type": "code",
      "source": [
        "\n",
        "b = np.array([5,15])\n",
        "b"
      ],
      "metadata": {
        "colab": {
          "base_uri": "https://localhost:8080/"
        },
        "id": "vAbW_Jt0A430",
        "outputId": "d921d34c-fd5c-4447-fb02-2ab0ab0ceaad"
      },
      "execution_count": 10,
      "outputs": [
        {
          "output_type": "execute_result",
          "data": {
            "text/plain": [
              "array([ 5, 15])"
            ]
          },
          "metadata": {},
          "execution_count": 10
        }
      ]
    },
    {
      "cell_type": "code",
      "source": [
        "\n",
        "a_inv = np.linalg.inv(a)\n",
        "a_inv"
      ],
      "metadata": {
        "colab": {
          "base_uri": "https://localhost:8080/"
        },
        "id": "ZK973Z79BAfu",
        "outputId": "cd11937b-7cb8-4b84-9d75-5d3738df284f"
      },
      "execution_count": 11,
      "outputs": [
        {
          "output_type": "execute_result",
          "data": {
            "text/plain": [
              "array([[-3.,  1.],\n",
              "       [ 4., -1.]])"
            ]
          },
          "metadata": {},
          "execution_count": 11
        }
      ]
    },
    {
      "cell_type": "code",
      "source": [
        "\n",
        "print(np.dot(a_inv,b))"
      ],
      "metadata": {
        "colab": {
          "base_uri": "https://localhost:8080/"
        },
        "id": "QR6TA9DoBGiM",
        "outputId": "f88b403c-5b7f-4de1-9421-7bb85e8f6fb2"
      },
      "execution_count": 12,
      "outputs": [
        {
          "output_type": "stream",
          "name": "stdout",
          "text": [
            "[0. 5.]\n"
          ]
        }
      ]
    },
    {
      "cell_type": "markdown",
      "source": [
        "# 0-D Array"
      ],
      "metadata": {
        "id": "9OgODrYwXfvh"
      }
    },
    {
      "cell_type": "code",
      "source": [
        "import numpy as np\n",
        "a = np.array(4)\n",
        "print(a)\n",
        "print(a.ndim)"
      ],
      "metadata": {
        "colab": {
          "base_uri": "https://localhost:8080/"
        },
        "id": "JV3982YfBKRt",
        "outputId": "753b84e0-b67b-4095-c17d-13cf46a8b930"
      },
      "execution_count": 14,
      "outputs": [
        {
          "output_type": "stream",
          "name": "stdout",
          "text": [
            "4\n",
            "0\n"
          ]
        }
      ]
    },
    {
      "cell_type": "markdown",
      "source": [
        "# 1-d tensor\n"
      ],
      "metadata": {
        "id": "Bl9_qX9GXXY_"
      }
    },
    {
      "cell_type": "code",
      "source": [
        "a = np.array([1,2,3]) # also called as vector\n",
        "print(a)\n",
        "print(a.ndim)"
      ],
      "metadata": {
        "colab": {
          "base_uri": "https://localhost:8080/"
        },
        "id": "jNGPteN6XoOa",
        "outputId": "8e93a3d0-9e69-4c20-8c77-4ac4ad5960e4"
      },
      "execution_count": 16,
      "outputs": [
        {
          "output_type": "stream",
          "name": "stdout",
          "text": [
            "[1 2 3]\n",
            "1\n"
          ]
        }
      ]
    },
    {
      "cell_type": "markdown",
      "source": [
        "# 2-D tensor(metrices)"
      ],
      "metadata": {
        "id": "yT6Z8PtSXs-c"
      }
    },
    {
      "cell_type": "code",
      "source": [
        "arr = np.array([[1,2,3],[4,5,6],[7,8,9]])\n",
        "print(arr)\n",
        "print(arr.ndim)"
      ],
      "metadata": {
        "colab": {
          "base_uri": "https://localhost:8080/"
        },
        "id": "rnTDHzh-X2R_",
        "outputId": "f0c56921-57dc-46f8-86e1-8c5174d5a521"
      },
      "execution_count": 18,
      "outputs": [
        {
          "output_type": "stream",
          "name": "stdout",
          "text": [
            "[[1 2 3]\n",
            " [4 5 6]\n",
            " [7 8 9]]\n",
            "2\n"
          ]
        }
      ]
    },
    {
      "cell_type": "markdown",
      "source": [
        "# Rank,Axes and shape\n",
        "- Number of axes = Rank --> Number of dimensions\n",
        "- shape - Number of rows* number of columns"
      ],
      "metadata": {
        "id": "_94fH65_YUhb"
      }
    },
    {
      "cell_type": "code",
      "source": [],
      "metadata": {
        "id": "Cd1eTQ2BY9pK"
      },
      "execution_count": null,
      "outputs": []
    }
  ]
}